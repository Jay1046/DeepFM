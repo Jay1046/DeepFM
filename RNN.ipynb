{
 "cells": [
  {
   "cell_type": "code",
   "execution_count": 2,
   "metadata": {},
   "outputs": [],
   "source": [
    "import numpy as np\n",
    "\n",
    "timesteps = 10 # 시점의 수. 보통 문장의 길이\n",
    "input_size = 4 # 입력의 차원. 보통 단어 벡터의 차원\n",
    "hidden_size = 8 # 은닉 상태의 크기. 메모리 셀의 용량\n",
    "\n",
    "inputs = np.random.random((timesteps, input_size)) # 입력에 해당되는 2D 텐서\n",
    "\n",
    "hidden_state_t = np.zeros((hidden_size,)) # 초기 은닉 상태는 0(벡터)로 초기화\n",
    "# 은닉 상태의 크기 hidden_size로 은닉 상태를 만듬."
   ]
  },
  {
   "cell_type": "code",
   "execution_count": 6,
   "metadata": {},
   "outputs": [
    {
     "name": "stdout",
     "output_type": "stream",
     "text": [
      "[[0.72205779 0.74804886 0.18939083 0.28049449]\n",
      " [0.59782798 0.11274755 0.08244656 0.97437726]\n",
      " [0.95761534 0.97046366 0.35240534 0.80195514]\n",
      " [0.61210679 0.99189348 0.20636254 0.00502784]\n",
      " [0.47174565 0.39036822 0.61990652 0.15905979]\n",
      " [0.73321978 0.28141217 0.17530519 0.41386618]\n",
      " [0.52121205 0.15292853 0.25757913 0.81303725]\n",
      " [0.86207035 0.9364869  0.35479195 0.01972132]\n",
      " [0.46155241 0.1250886  0.73467058 0.86687349]\n",
      " [0.5256695  0.93789956 0.19473507 0.00851504]]\n",
      "(10, 4)\n"
     ]
    }
   ],
   "source": [
    "print(inputs)\n",
    "print(inputs.shape)"
   ]
  },
  {
   "cell_type": "code",
   "execution_count": 7,
   "metadata": {},
   "outputs": [
    {
     "name": "stdout",
     "output_type": "stream",
     "text": [
      "[0. 0. 0. 0. 0. 0. 0. 0.]\n",
      "(8,)\n"
     ]
    }
   ],
   "source": [
    "# 초기 hidden state. 0으로 시작작\n",
    "print(hidden_state_t) \n",
    "print(hidden_state_t.shape)"
   ]
  },
  {
   "cell_type": "code",
   "execution_count": 10,
   "metadata": {},
   "outputs": [
    {
     "name": "stdout",
     "output_type": "stream",
     "text": [
      "(8, 4)\n",
      "(8, 8)\n",
      "(8,)\n"
     ]
    }
   ],
   "source": [
    "# parameters\n",
    "Wx = np.random.random((hidden_size, input_size)) \n",
    "Wh = np.random.random((hidden_size, hidden_size))\n",
    "b = np.random.random((hidden_size,))\n",
    "\n",
    "print(Wx.shape)\n",
    "print(Wh.shape)\n",
    "print(b.shape)"
   ]
  },
  {
   "cell_type": "code",
   "execution_count": 19,
   "metadata": {},
   "outputs": [
    {
     "name": "stdout",
     "output_type": "stream",
     "text": [
      "(1, 8)\n",
      "(2, 8)\n",
      "(3, 8)\n",
      "(4, 8)\n",
      "(5, 8)\n",
      "(6, 8)\n",
      "(7, 8)\n",
      "(8, 8)\n",
      "(9, 8)\n",
      "(10, 8)\n",
      "[[0.99983838 0.99997002 0.99997278 0.99998538 0.99998707 0.99981431\n",
      "  0.9999871  0.99985977]\n",
      " [0.9996477  0.9999731  0.99993608 0.99998671 0.99999288 0.99991817\n",
      "  0.99997054 0.9999287 ]\n",
      " [0.99993886 0.99998072 0.99998884 0.99999582 0.99999702 0.99995099\n",
      "  0.99999455 0.99996022]\n",
      " [0.99987026 0.99996414 0.99997866 0.99997954 0.99997851 0.99973254\n",
      "  0.99998834 0.99980104]\n",
      " [0.99965916 0.9999677  0.99996119 0.99998333 0.99998502 0.99982666\n",
      "  0.99998751 0.9998971 ]\n",
      " [0.99964228 0.9999715  0.99994362 0.99998429 0.99998786 0.99980735\n",
      "  0.99997952 0.99986158]\n",
      " [0.99964005 0.99997171 0.99994329 0.99998609 0.99999178 0.99991172\n",
      "  0.9999761  0.99993027]\n",
      " [0.99987725 0.99997242 0.99998153 0.99998873 0.99998776 0.99977691\n",
      "  0.99999269 0.99985307]\n",
      " [0.9996788  0.9999759  0.99996235 0.9999922  0.99999542 0.99995439\n",
      "  0.99998806 0.99997008]\n",
      " [0.99985067 0.99996143 0.99997564 0.99997554 0.99997491 0.99972108\n",
      "  0.99998618 0.99978979]]\n"
     ]
    }
   ],
   "source": [
    "total_hidden_states = []\n",
    "\n",
    "for input_ in inputs:\n",
    "    output_t = np.tanh(np.dot(Wx, input_) + np.dot(Wh, hidden_state_t) + b) # Wx * Xt + Wh * Ht-1 + b(bias)\n",
    "    total_hidden_states.append(list(output_t))\n",
    "    print(np.shape(total_hidden_states)) # 각 시점 t별 메모리 셀의 출력의 크기 (timestep, output_dim)\n",
    "    hidden_state_t = output_t\n",
    "    \n",
    "total_hidden_states = np.stack(total_hidden_states, axis=0) # 출력 시 값을 깔끔하게 해준다.\n",
    "print(total_hidden_states)"
   ]
  },
  {
   "cell_type": "code",
   "execution_count": 20,
   "metadata": {},
   "outputs": [],
   "source": [
    "# pytorch\n",
    "import torch\n",
    "import torch.nn as nn"
   ]
  },
  {
   "cell_type": "code",
   "execution_count": 22,
   "metadata": {},
   "outputs": [],
   "source": [
    "input_size = 5\n",
    "hidden_size = 8\n",
    "\n",
    "# batch_size, time_steps, input_size\n",
    "inputs = torch.Tensor(1, 10, 5)\n",
    "cell = nn.RNN(input_size, hidden_size, batch_first = True)"
   ]
  },
  {
   "cell_type": "code",
   "execution_count": 24,
   "metadata": {},
   "outputs": [],
   "source": [
    "outputs, _status = cell(inputs)"
   ]
  },
  {
   "cell_type": "code",
   "execution_count": 28,
   "metadata": {},
   "outputs": [
    {
     "name": "stdout",
     "output_type": "stream",
     "text": [
      "torch.Size([1, 10, 8])\n",
      "tensor([[[-0.5452, -0.2048,  0.1180,  0.3021,  0.3046, -0.2959, -0.1344,\n",
      "           0.2103],\n",
      "         [-0.5286, -0.0950, -0.0804,  0.4419,  0.4556, -0.2118, -0.1317,\n",
      "           0.3000],\n",
      "         [-0.5058, -0.0536, -0.1181,  0.4322,  0.5481, -0.1765, -0.1688,\n",
      "           0.3309],\n",
      "         [-0.4892, -0.0239, -0.1320,  0.4427,  0.5720, -0.1828, -0.1822,\n",
      "           0.3219],\n",
      "         [-0.4860, -0.0089, -0.1291,  0.4406,  0.5766, -0.1851, -0.1810,\n",
      "           0.3305],\n",
      "         [-0.4839, -0.0091, -0.1339,  0.4389,  0.5739, -0.1864, -0.1858,\n",
      "           0.3360],\n",
      "         [-0.4821, -0.0093, -0.1331,  0.4377,  0.5747, -0.1847, -0.1851,\n",
      "           0.3360],\n",
      "         [-0.4822, -0.0091, -0.1331,  0.4379,  0.5744, -0.1853, -0.1859,\n",
      "           0.3354],\n",
      "         [-0.4821, -0.0089, -0.1327,  0.4379,  0.5745, -0.1852, -0.1853,\n",
      "           0.3355],\n",
      "         [-0.4822, -0.0090, -0.1329,  0.4378,  0.5742, -0.1853, -0.1856,\n",
      "           0.3356]]], grad_fn=<TransposeBackward1>)\n"
     ]
    }
   ],
   "source": [
    "print(outputs.shape) # 모든 time-step의 hidden_state\n",
    "print(outputs)"
   ]
  },
  {
   "cell_type": "code",
   "execution_count": 29,
   "metadata": {},
   "outputs": [
    {
     "name": "stdout",
     "output_type": "stream",
     "text": [
      "torch.Size([1, 1, 8])\n",
      "tensor([[[-0.4822, -0.0090, -0.1329,  0.4378,  0.5742, -0.1853, -0.1856,\n",
      "           0.3356]]], grad_fn=<StackBackward0>)\n"
     ]
    }
   ],
   "source": [
    "print(_status.shape) # 최종 time-step의 hidden_state\n",
    "print(_status)"
   ]
  },
  {
   "attachments": {},
   "cell_type": "markdown",
   "metadata": {},
   "source": [
    "## Deep RNN"
   ]
  },
  {
   "cell_type": "code",
   "execution_count": 30,
   "metadata": {},
   "outputs": [],
   "source": [
    "# (batch_size, time_steps, input_size)\n",
    "inputs = torch.Tensor(1, 10, 5)"
   ]
  },
  {
   "cell_type": "code",
   "execution_count": 33,
   "metadata": {},
   "outputs": [],
   "source": [
    "# num_layer를 통해 hidden state의 layer 개수를 추가\n",
    "cell = nn.RNN(input_size=5, hidden_size=8, num_layers=2, batch_first=True) \n",
    "outputs , _status = cell(inputs)"
   ]
  },
  {
   "cell_type": "code",
   "execution_count": 37,
   "metadata": {},
   "outputs": [
    {
     "name": "stdout",
     "output_type": "stream",
     "text": [
      "torch.Size([1, 10, 8])\n",
      "torch.Size([2, 1, 8])\n"
     ]
    }
   ],
   "source": [
    "print(outputs.shape)\n",
    "print(_status.shape) # 층의 개수, 배치크기, 은닉상태의 크기"
   ]
  },
  {
   "attachments": {},
   "cell_type": "markdown",
   "metadata": {},
   "source": [
    "## Bidirectional Recurrent Neural Network"
   ]
  },
  {
   "attachments": {},
   "cell_type": "markdown",
   "metadata": {},
   "source": [
    "중간의 빈칸으로 남겨진 단어를 예측할 때, 과거의 sequence 뿐만 아니라, 이후 시점의 데이터도 사용해야한다. 따라서, 양방향 RNN을 사용\n",
    "- 두개의 메모리셀을 사용. 첫 메모리셀은 이전 시점의 hidden status를 받음. 두번 째 메모리셀은 뒷 시점의 hidden status를 받음"
   ]
  },
  {
   "cell_type": "code",
   "execution_count": 38,
   "metadata": {},
   "outputs": [],
   "source": [
    "# batch_size, time_steps, input_size\n",
    "inputs = torch.Tensor(1, 10, 5)"
   ]
  },
  {
   "cell_type": "code",
   "execution_count": 40,
   "metadata": {},
   "outputs": [],
   "source": [
    "cell = nn.RNN(input_size=5, hidden_size=8, num_layers=2, batch_first=True, bidirectional=True)"
   ]
  },
  {
   "cell_type": "code",
   "execution_count": 41,
   "metadata": {},
   "outputs": [],
   "source": [
    "outputs, _status = cell(inputs)"
   ]
  },
  {
   "cell_type": "code",
   "execution_count": 43,
   "metadata": {},
   "outputs": [
    {
     "name": "stdout",
     "output_type": "stream",
     "text": [
      "torch.Size([1, 10, 16])\n",
      "torch.Size([4, 1, 8])\n"
     ]
    }
   ],
   "source": [
    "print(outputs.shape)\n",
    "print(_status.shape) # (층의 개수 x 2, 배치 크기, 은닉 상태의 크기)"
   ]
  },
  {
   "attachments": {},
   "cell_type": "markdown",
   "metadata": {},
   "source": [
    "---\n",
    "### Tensorflow로 간단한 RNN 구현하기"
   ]
  },
  {
   "attachments": {},
   "cell_type": "markdown",
   "metadata": {},
   "source": [
    "시간은 주기성을 가지기 때문에 그 특징을 입력 값으로 사용하면 예측 성능을 높여줄 수 있다.\n",
    "\n",
    "시간은 아래와 같은 주기성이 있다.\n",
    "\n",
    "1년은 52 주(365일) : X = 52\n",
    "1일은 24 시간 : X = 24\n",
    "1시간은 60 분 : X = 60"
   ]
  },
  {
   "cell_type": "code",
   "execution_count": 71,
   "metadata": {},
   "outputs": [],
   "source": [
    "import numpy as np\n",
    "import matplotlib.pyplot as plt\n",
    "import tensorflow as tf\n",
    "from tensorflow.keras.models import Sequential\n",
    "from tensorflow.keras.layers import SimpleRNN, Dense"
   ]
  },
  {
   "cell_type": "code",
   "execution_count": 135,
   "metadata": {},
   "outputs": [],
   "source": [
    "t = np.arange(0, 1000)\n",
    "x = np.sin(0.02 * t) + np.random.rand(1000)\n",
    "train, test = x[0:800], x[800:1000]"
   ]
  },
  {
   "cell_type": "code",
   "execution_count": 136,
   "metadata": {},
   "outputs": [
    {
     "data": {
      "image/png": "[encoded data removed]",
      "text/plain": [
       "<Figure size 640x480 with 1 Axes>"
      ]
     },
     "metadata": {},
     "output_type": "display_data"
    }
   ],
   "source": [
    "plt.plot(x)\n",
    "plt.show()"
   ]
  },
  {
   "cell_type": "code",
   "execution_count": 83,
   "metadata": {},
   "outputs": [],
   "source": [
    "# 3개의 연속된 값을 묶어 4번째 값을 결과로 뱉는 데이터로 만들기\n",
    "# INPUT\t\t\t\t            OUTPUT\n",
    "# sin(0) sin(1) sin(2) sin(3)\tsin(4)\n",
    "# sin(1) sin(2) sin(3) sin(4)\tsin(5)\n",
    "# sin(2) sin(3) sin(4) sin(5)\tsin(6)"
   ]
  },
  {
   "cell_type": "code",
   "execution_count": 137,
   "metadata": {},
   "outputs": [],
   "source": [
    "def convert_to_matrix(data, step):\n",
    "    x, y = [], []\n",
    "    for i in range(len(data) - step):\n",
    "        d = i + step\n",
    "        x.append(data[i:d])\n",
    "        y.append(data[d])\n",
    "    return np.array(x), np.array(y)"
   ]
  },
  {
   "cell_type": "code",
   "execution_count": 142,
   "metadata": {},
   "outputs": [],
   "source": [
    "train = np.append(train, np.repeat(train[-1], 4))\n",
    "test = np.append(test, np.repeat(test[-1], 4))\n",
    "\n",
    "train_x, train_y = convert_to_matrix(train, 4)\n",
    "test_x, test_y = convert_to_matrix(test, 4)\n",
    "\n",
    "train_x = np.reshape(train_x, (train_x.shape[0], 1, train_x.shape[1]))\n",
    "test_x = np.reshape(test_x, (test_x.shape[0], 1, test_x.shape[1]))"
   ]
  },
  {
   "cell_type": "code",
   "execution_count": 280,
   "metadata": {},
   "outputs": [
    {
     "data": {
      "text/plain": [
       "(804, 1, 4)"
      ]
     },
     "execution_count": 280,
     "metadata": {},
     "output_type": "execute_result"
    }
   ],
   "source": [
    "train_x.shape"
   ]
  },
  {
   "cell_type": "code",
   "execution_count": 288,
   "metadata": {},
   "outputs": [
    {
     "data": {
      "text/plain": [
       "(204, 1, 4)"
      ]
     },
     "execution_count": 288,
     "metadata": {},
     "output_type": "execute_result"
    }
   ],
   "source": [
    "test_x.shape"
   ]
  },
  {
   "cell_type": "code",
   "execution_count": 139,
   "metadata": {},
   "outputs": [
    {
     "data": {
      "text/plain": [
       "array([[[ 0.78408901,  0.06141458, -0.22925147, -0.02396798]],\n",
       "\n",
       "       [[ 0.06141458, -0.22925147, -0.02396798, -0.02396798]],\n",
       "\n",
       "       [[-0.22925147, -0.02396798, -0.02396798, -0.02396798]]])"
      ]
     },
     "execution_count": 139,
     "metadata": {},
     "output_type": "execute_result"
    }
   ],
   "source": [
    "train_x[-4:-1]"
   ]
  },
  {
   "cell_type": "code",
   "execution_count": 157,
   "metadata": {},
   "outputs": [
    {
     "data": {
      "text/plain": [
       "array([[[0.73819661, 0.65958212]]])"
      ]
     },
     "execution_count": 157,
     "metadata": {},
     "output_type": "execute_result"
    }
   ],
   "source": [
    "np.random.random((1,1,2))"
   ]
  },
  {
   "cell_type": "code",
   "execution_count": 155,
   "metadata": {},
   "outputs": [
    {
     "data": {
      "text/plain": [
       "array([[[0.79281736],\n",
       "        [0.33672425]]])"
      ]
     },
     "execution_count": 155,
     "metadata": {},
     "output_type": "execute_result"
    }
   ],
   "source": [
    "np.random.random((1,2,1))"
   ]
  },
  {
   "cell_type": "code",
   "execution_count": 156,
   "metadata": {},
   "outputs": [
    {
     "data": {
      "text/plain": [
       "array([[[0.58361449]],\n",
       "\n",
       "       [[0.06062829]]])"
      ]
     },
     "execution_count": 156,
     "metadata": {},
     "output_type": "execute_result"
    }
   ],
   "source": [
    "np.random.random((2,1,1))"
   ]
  },
  {
   "cell_type": "code",
   "execution_count": 113,
   "metadata": {},
   "outputs": [
    {
     "data": {
      "text/plain": [
       "808"
      ]
     },
     "execution_count": 113,
     "metadata": {},
     "output_type": "execute_result"
    }
   ],
   "source": [
    "len(train)"
   ]
  },
  {
   "cell_type": "code",
   "execution_count": 114,
   "metadata": {},
   "outputs": [],
   "source": [
    "model = Sequential()\n",
    "model.add(SimpleRNN(units=32, input_shape=(1, 4), activation='relu'))\n",
    "model.add(Dense(8, activation='relu'))\n",
    "model.add(Dense(1))\n",
    "model.compile(loss='mse', optimizer='adam', metrics=['acc'])"
   ]
  },
  {
   "cell_type": "code",
   "execution_count": 115,
   "metadata": {},
   "outputs": [
    {
     "name": "stdout",
     "output_type": "stream",
     "text": [
      "Model: \"sequential_5\"\n",
      "_________________________________________________________________\n",
      " Layer (type)                Output Shape              Param #   \n",
      "=================================================================\n",
      " simple_rnn_5 (SimpleRNN)    (None, 32)                1184      \n",
      "                                                                 \n",
      " dense_10 (Dense)            (None, 8)                 264       \n",
      "                                                                 \n",
      " dense_11 (Dense)            (None, 1)                 9         \n",
      "                                                                 \n",
      "=================================================================\n",
      "Total params: 1,457\n",
      "Trainable params: 1,457\n",
      "Non-trainable params: 0\n",
      "_________________________________________________________________\n"
     ]
    }
   ],
   "source": [
    "model.summary()"
   ]
  },
  {
   "cell_type": "code",
   "execution_count": 116,
   "metadata": {},
   "outputs": [
    {
     "name": "stdout",
     "output_type": "stream",
     "text": [
      "Epoch 1/10\n",
      "26/26 [==============================] - 1s 902us/step - loss: 0.8387 - acc: 0.0000e+00\n",
      "Epoch 2/10\n",
      "26/26 [==============================] - 0s 922us/step - loss: 0.2546 - acc: 0.0000e+00\n",
      "Epoch 3/10\n",
      "26/26 [==============================] - 0s 928us/step - loss: 0.1083 - acc: 0.0000e+00\n",
      "Epoch 4/10\n",
      "26/26 [==============================] - 0s 1ms/step - loss: 0.1016 - acc: 0.0000e+00\n",
      "Epoch 5/10\n",
      "26/26 [==============================] - 0s 881us/step - loss: 0.1004 - acc: 0.0000e+00\n",
      "Epoch 6/10\n",
      "26/26 [==============================] - 0s 881us/step - loss: 0.0998 - acc: 0.0000e+00\n",
      "Epoch 7/10\n",
      "26/26 [==============================] - 0s 862us/step - loss: 0.0989 - acc: 0.0000e+00\n",
      "Epoch 8/10\n",
      "26/26 [==============================] - 0s 862us/step - loss: 0.0988 - acc: 0.0000e+00\n",
      "Epoch 9/10\n",
      "26/26 [==============================] - 0s 890us/step - loss: 0.0983 - acc: 0.0000e+00\n",
      "Epoch 10/10\n",
      "26/26 [==============================] - 0s 785us/step - loss: 0.0983 - acc: 0.0000e+00\n"
     ]
    }
   ],
   "source": [
    "history=model.fit(train_x, train_y, epochs=10)"
   ]
  },
  {
   "cell_type": "code",
   "execution_count": 158,
   "metadata": {},
   "outputs": [
    {
     "data": {
      "text/plain": [
       "[0.8387051820755005,\n",
       " 0.2545868754386902,\n",
       " 0.10834888368844986,\n",
       " 0.10160452872514725,\n",
       " 0.10036968439817429,\n",
       " 0.0998232439160347,\n",
       " 0.09887067973613739,\n",
       " 0.09875471889972687,\n",
       " 0.09832856804132462,\n",
       " 0.09825421869754791]"
      ]
     },
     "execution_count": 158,
     "metadata": {},
     "output_type": "execute_result"
    }
   ],
   "source": [
    "history.history['loss']"
   ]
  },
  {
   "cell_type": "code",
   "execution_count": 117,
   "metadata": {},
   "outputs": [
    {
     "data": {
      "image/png": "[encoded data removed]",
      "text/plain": [
       "<Figure size 640x480 with 1 Axes>"
      ]
     },
     "metadata": {},
     "output_type": "display_data"
    }
   ],
   "source": [
    "plt.plot(history.history['loss'], label='loss')\n",
    "plt.ylabel('loss')\n",
    "plt.xlabel('epoch')\n",
    "plt.legend(loc='best')\n",
    "plt.show()"
   ]
  },
  {
   "cell_type": "code",
   "execution_count": 118,
   "metadata": {},
   "outputs": [
    {
     "name": "stdout",
     "output_type": "stream",
     "text": [
      "7/7 [==============================] - 0s 833us/step - loss: 0.0934 - acc: 0.0000e+00\n",
      "loss: 0.0934\n",
      "acc: 0.0000\n"
     ]
    }
   ],
   "source": [
    "test_loss, test_acc = model.evaluate(test_x, test_y)\n",
    "print('loss: {:.4f}\\nacc: {:.4f}'.format(test_loss, test_acc))"
   ]
  },
  {
   "attachments": {},
   "cell_type": "markdown",
   "metadata": {},
   "source": [
    "---"
   ]
  },
  {
   "cell_type": "code",
   "execution_count": 130,
   "metadata": {},
   "outputs": [
    {
     "name": "stdout",
     "output_type": "stream",
     "text": [
      "Collecting finance-datareader\n",
      "  Downloading finance_datareader-0.9.50-py3-none-any.whl (19 kB)\n",
      "Requirement already satisfied: tqdm in c:\\programdata\\anaconda3\\envs\\dl1\\lib\\site-packages (from finance-datareader) (4.65.0)\n",
      "Requirement already satisfied: pandas>=0.19.2 in c:\\programdata\\anaconda3\\envs\\dl1\\lib\\site-packages (from finance-datareader) (1.5.3)\n",
      "Requirement already satisfied: lxml in c:\\programdata\\anaconda3\\envs\\dl1\\lib\\site-packages (from finance-datareader) (4.9.1)\n",
      "Requirement already satisfied: requests>=2.3.0 in c:\\programdata\\anaconda3\\envs\\dl1\\lib\\site-packages (from finance-datareader) (2.28.2)\n",
      "Collecting requests-file\n",
      "  Downloading requests_file-1.5.1-py2.py3-none-any.whl (3.7 kB)\n",
      "Requirement already satisfied: pytz>=2020.1 in c:\\programdata\\anaconda3\\envs\\dl1\\lib\\site-packages (from pandas>=0.19.2->finance-datareader) (2023.3)\n",
      "Requirement already satisfied: python-dateutil>=2.8.1 in c:\\programdata\\anaconda3\\envs\\dl1\\lib\\site-packages (from pandas>=0.19.2->finance-datareader) (2.8.2)\n",
      "Requirement already satisfied: numpy>=1.20.3 in c:\\programdata\\anaconda3\\envs\\dl1\\lib\\site-packages (from pandas>=0.19.2->finance-datareader) (1.23.5)\n",
      "Requirement already satisfied: certifi>=2017.4.17 in c:\\programdata\\anaconda3\\envs\\dl1\\lib\\site-packages (from requests>=2.3.0->finance-datareader) (2022.12.7)\n",
      "Requirement already satisfied: idna<4,>=2.5 in c:\\programdata\\anaconda3\\envs\\dl1\\lib\\site-packages (from requests>=2.3.0->finance-datareader) (3.4)\n",
      "Requirement already satisfied: charset-normalizer<4,>=2 in c:\\programdata\\anaconda3\\envs\\dl1\\lib\\site-packages (from requests>=2.3.0->finance-datareader) (3.1.0)\n",
      "Requirement already satisfied: urllib3<1.27,>=1.21.1 in c:\\programdata\\anaconda3\\envs\\dl1\\lib\\site-packages (from requests>=2.3.0->finance-datareader) (1.26.15)\n",
      "Requirement already satisfied: six in c:\\programdata\\anaconda3\\envs\\dl1\\lib\\site-packages (from requests-file->finance-datareader) (1.16.0)\n",
      "Requirement already satisfied: colorama in c:\\programdata\\anaconda3\\envs\\dl1\\lib\\site-packages (from tqdm->finance-datareader) (0.4.6)\n",
      "Installing collected packages: requests-file, finance-datareader\n",
      "Successfully installed finance-datareader-0.9.50 requests-file-1.5.1\n",
      "Note: you may need to restart the kernel to use updated packages.\n"
     ]
    }
   ],
   "source": [
    "pip install finance-datareader"
   ]
  },
  {
   "cell_type": "code",
   "execution_count": 324,
   "metadata": {},
   "outputs": [],
   "source": [
    "import FinanceDataReader as fdr\n",
    "import numpy as np\n",
    "import matplotlib.pyplot as plt\n",
    "from sklearn.preprocessing import MinMaxScaler"
   ]
  },
  {
   "cell_type": "code",
   "execution_count": 325,
   "metadata": {},
   "outputs": [
    {
     "data": {
      "text/html": [
       "<div>\n",
       "<style scoped>\n",
       "    .dataframe tbody tr th:only-of-type {\n",
       "        vertical-align: middle;\n",
       "    }\n",
       "\n",
       "    .dataframe tbody tr th {\n",
       "        vertical-align: top;\n",
       "    }\n",
       "\n",
       "    .dataframe thead th {\n",
       "        text-align: right;\n",
       "    }\n",
       "</style>\n",
       "<table border=\"1\" class=\"dataframe\">\n",
       "  <thead>\n",
       "    <tr style=\"text-align: right;\">\n",
       "      <th></th>\n",
       "      <th>Open</th>\n",
       "      <th>High</th>\n",
       "      <th>Low</th>\n",
       "      <th>Close</th>\n",
       "      <th>Volume</th>\n",
       "      <th>Change</th>\n",
       "    </tr>\n",
       "    <tr>\n",
       "      <th>Date</th>\n",
       "      <th></th>\n",
       "      <th></th>\n",
       "      <th></th>\n",
       "      <th></th>\n",
       "      <th></th>\n",
       "      <th></th>\n",
       "    </tr>\n",
       "  </thead>\n",
       "  <tbody>\n",
       "    <tr>\n",
       "      <th>2018-05-04</th>\n",
       "      <td>53000</td>\n",
       "      <td>53900</td>\n",
       "      <td>51800</td>\n",
       "      <td>51900</td>\n",
       "      <td>39565391</td>\n",
       "      <td>-0.020755</td>\n",
       "    </tr>\n",
       "    <tr>\n",
       "      <th>2018-05-08</th>\n",
       "      <td>52600</td>\n",
       "      <td>53200</td>\n",
       "      <td>51900</td>\n",
       "      <td>52600</td>\n",
       "      <td>23104720</td>\n",
       "      <td>0.013487</td>\n",
       "    </tr>\n",
       "    <tr>\n",
       "      <th>2018-05-09</th>\n",
       "      <td>52600</td>\n",
       "      <td>52800</td>\n",
       "      <td>50900</td>\n",
       "      <td>50900</td>\n",
       "      <td>16128305</td>\n",
       "      <td>-0.032319</td>\n",
       "    </tr>\n",
       "    <tr>\n",
       "      <th>2018-05-10</th>\n",
       "      <td>51700</td>\n",
       "      <td>51700</td>\n",
       "      <td>50600</td>\n",
       "      <td>51600</td>\n",
       "      <td>13905263</td>\n",
       "      <td>0.013752</td>\n",
       "    </tr>\n",
       "    <tr>\n",
       "      <th>2018-05-11</th>\n",
       "      <td>52000</td>\n",
       "      <td>52200</td>\n",
       "      <td>51200</td>\n",
       "      <td>51300</td>\n",
       "      <td>10314997</td>\n",
       "      <td>-0.005814</td>\n",
       "    </tr>\n",
       "  </tbody>\n",
       "</table>\n",
       "</div>"
      ],
      "text/plain": [
       "             Open   High    Low  Close    Volume    Change\n",
       "Date                                                      \n",
       "2018-05-04  53000  53900  51800  51900  39565391 -0.020755\n",
       "2018-05-08  52600  53200  51900  52600  23104720  0.013487\n",
       "2018-05-09  52600  52800  50900  50900  16128305 -0.032319\n",
       "2018-05-10  51700  51700  50600  51600  13905263  0.013752\n",
       "2018-05-11  52000  52200  51200  51300  10314997 -0.005814"
      ]
     },
     "execution_count": 325,
     "metadata": {},
     "output_type": "execute_result"
    }
   ],
   "source": [
    "df = fdr.DataReader('005930', '2018-05-04', '2023-04-06')\n",
    "df.head()"
   ]
  },
  {
   "cell_type": "code",
   "execution_count": 326,
   "metadata": {},
   "outputs": [
    {
     "data": {
      "text/html": [
       "<div>\n",
       "<style scoped>\n",
       "    .dataframe tbody tr th:only-of-type {\n",
       "        vertical-align: middle;\n",
       "    }\n",
       "\n",
       "    .dataframe tbody tr th {\n",
       "        vertical-align: top;\n",
       "    }\n",
       "\n",
       "    .dataframe thead th {\n",
       "        text-align: right;\n",
       "    }\n",
       "</style>\n",
       "<table border=\"1\" class=\"dataframe\">\n",
       "  <thead>\n",
       "    <tr style=\"text-align: right;\">\n",
       "      <th></th>\n",
       "      <th>Open</th>\n",
       "      <th>High</th>\n",
       "      <th>Low</th>\n",
       "      <th>Close</th>\n",
       "      <th>Volume</th>\n",
       "      <th>Change</th>\n",
       "    </tr>\n",
       "    <tr>\n",
       "      <th>Date</th>\n",
       "      <th></th>\n",
       "      <th></th>\n",
       "      <th></th>\n",
       "      <th></th>\n",
       "      <th></th>\n",
       "      <th></th>\n",
       "    </tr>\n",
       "  </thead>\n",
       "  <tbody>\n",
       "    <tr>\n",
       "      <th>2023-03-30</th>\n",
       "      <td>63700</td>\n",
       "      <td>63700</td>\n",
       "      <td>63100</td>\n",
       "      <td>63200</td>\n",
       "      <td>15684377</td>\n",
       "      <td>0.007974</td>\n",
       "    </tr>\n",
       "    <tr>\n",
       "      <th>2023-03-31</th>\n",
       "      <td>64000</td>\n",
       "      <td>64000</td>\n",
       "      <td>63700</td>\n",
       "      <td>64000</td>\n",
       "      <td>14094479</td>\n",
       "      <td>0.012658</td>\n",
       "    </tr>\n",
       "    <tr>\n",
       "      <th>2023-04-03</th>\n",
       "      <td>64000</td>\n",
       "      <td>64000</td>\n",
       "      <td>63000</td>\n",
       "      <td>63100</td>\n",
       "      <td>11973133</td>\n",
       "      <td>-0.014062</td>\n",
       "    </tr>\n",
       "    <tr>\n",
       "      <th>2023-04-04</th>\n",
       "      <td>63400</td>\n",
       "      <td>63800</td>\n",
       "      <td>62800</td>\n",
       "      <td>63600</td>\n",
       "      <td>11120514</td>\n",
       "      <td>0.007924</td>\n",
       "    </tr>\n",
       "    <tr>\n",
       "      <th>2023-04-05</th>\n",
       "      <td>63700</td>\n",
       "      <td>64000</td>\n",
       "      <td>63400</td>\n",
       "      <td>63900</td>\n",
       "      <td>9050155</td>\n",
       "      <td>0.004717</td>\n",
       "    </tr>\n",
       "  </tbody>\n",
       "</table>\n",
       "</div>"
      ],
      "text/plain": [
       "             Open   High    Low  Close    Volume    Change\n",
       "Date                                                      \n",
       "2023-03-30  63700  63700  63100  63200  15684377  0.007974\n",
       "2023-03-31  64000  64000  63700  64000  14094479  0.012658\n",
       "2023-04-03  64000  64000  63000  63100  11973133 -0.014062\n",
       "2023-04-04  63400  63800  62800  63600  11120514  0.007924\n",
       "2023-04-05  63700  64000  63400  63900   9050155  0.004717"
      ]
     },
     "execution_count": 326,
     "metadata": {},
     "output_type": "execute_result"
    }
   ],
   "source": [
    "df.tail()"
   ]
  },
  {
   "cell_type": "code",
   "execution_count": 327,
   "metadata": {},
   "outputs": [],
   "source": [
    "dfx = df[['Open', 'High', 'Low', 'Volume', 'Close']]"
   ]
  },
  {
   "cell_type": "code",
   "execution_count": 328,
   "metadata": {},
   "outputs": [],
   "source": [
    "for col in dfx.columns:\n",
    "    scaler = MinMaxScaler()\n",
    "    dfx[col] = scaler.fit_transform(dfx)\n",
    "    \n",
    "dfy = dfx[['Close']]\n",
    "dfx = dfx.drop('Close', axis=1)"
   ]
  },
  {
   "cell_type": "code",
   "execution_count": 329,
   "metadata": {},
   "outputs": [],
   "source": [
    "x = dfx.values.tolist()\n",
    "y = dfy.values.tolist()"
   ]
  },
  {
   "cell_type": "code",
   "execution_count": 330,
   "metadata": {},
   "outputs": [],
   "source": [
    "# 5일 동안의 OHLVC 데이터로 다음 날의 종가를 예측\n",
    "window_size = 5\n",
    "data_x, data_y = [], []\n",
    "\n",
    "for i in range(len(y) - window_size):\n",
    "    _x = x[i: i+window_size]\n",
    "    _y = y[i+window_size]\n",
    "    data_x.append(_x)\n",
    "    data_y.append(_y)"
   ]
  },
  {
   "cell_type": "code",
   "execution_count": 331,
   "metadata": {},
   "outputs": [
    {
     "name": "stdout",
     "output_type": "stream",
     "text": [
      "train shape: (966, 5, 4) (966, 1)\n",
      "test shape: (242, 5, 4) (242, 1)\n"
     ]
    }
   ],
   "source": [
    "train_size = int(len(data_y) * 0.8)\n",
    "X_train = np.array(data_x[0 : train_size])\n",
    "y_train = np.array(data_y[0 : train_size])\n",
    "\n",
    "X_test = np.array(data_x[train_size:])\n",
    "y_test = np.array(data_y[train_size:])\n",
    "\n",
    "print('train shape:' , X_train.shape, y_train.shape) # N of sample, step_size, feature_size / N of samples, step_size, feature_size\n",
    "print('test shape:', X_test.shape, y_test.shape)"
   ]
  },
  {
   "cell_type": "code",
   "execution_count": 332,
   "metadata": {},
   "outputs": [],
   "source": [
    "from tensorflow.keras import Sequential\n",
    "from tensorflow.keras.layers import Dense, LSTM, Dropout"
   ]
  },
  {
   "cell_type": "code",
   "execution_count": 333,
   "metadata": {},
   "outputs": [],
   "source": [
    "model = Sequential()\n",
    "model.add(LSTM(units=20, activation='tanh', input_shape=(5,4)))\n",
    "model.add(Dense(1))"
   ]
  },
  {
   "cell_type": "code",
   "execution_count": 334,
   "metadata": {},
   "outputs": [
    {
     "name": "stdout",
     "output_type": "stream",
     "text": [
      "Epoch 1/100\n",
      "31/31 [==============================] - 1s 2ms/step - loss: 0.1681 - mse: 0.1681\n",
      "Epoch 2/100\n",
      "31/31 [==============================] - 0s 2ms/step - loss: 0.0378 - mse: 0.0378\n",
      "Epoch 3/100\n",
      "31/31 [==============================] - 0s 2ms/step - loss: 0.0251 - mse: 0.0251\n",
      "Epoch 4/100\n",
      "31/31 [==============================] - 0s 1ms/step - loss: 0.0175 - mse: 0.0175\n",
      "Epoch 5/100\n",
      "31/31 [==============================] - 0s 1ms/step - loss: 0.0122 - mse: 0.0122\n",
      "Epoch 6/100\n",
      "31/31 [==============================] - 0s 1ms/step - loss: 0.0086 - mse: 0.0086\n",
      "Epoch 7/100\n",
      "31/31 [==============================] - 0s 1ms/step - loss: 0.0061 - mse: 0.0061\n",
      "Epoch 8/100\n",
      "31/31 [==============================] - 0s 1ms/step - loss: 0.0043 - mse: 0.0043\n",
      "Epoch 9/100\n",
      "31/31 [==============================] - 0s 1ms/step - loss: 0.0031 - mse: 0.0031\n",
      "Epoch 10/100\n",
      "31/31 [==============================] - 0s 1ms/step - loss: 0.0023 - mse: 0.0023\n",
      "Epoch 11/100\n",
      "31/31 [==============================] - 0s 1ms/step - loss: 0.0017 - mse: 0.0017\n",
      "Epoch 12/100\n",
      "31/31 [==============================] - 0s 1ms/step - loss: 0.0014 - mse: 0.0014    \n",
      "Epoch 13/100\n",
      "31/31 [==============================] - 0s 1ms/step - loss: 0.0011 - mse: 0.0011\n",
      "Epoch 14/100\n",
      "31/31 [==============================] - 0s 1ms/step - loss: 9.4319e-04 - mse: 9.4319e-04\n",
      "Epoch 15/100\n",
      "31/31 [==============================] - 0s 1ms/step - loss: 8.2676e-04 - mse: 8.2676e-04\n",
      "Epoch 16/100\n",
      "31/31 [==============================] - 0s 1ms/step - loss: 7.4719e-04 - mse: 7.4719e-04\n",
      "Epoch 17/100\n",
      "31/31 [==============================] - 0s 1ms/step - loss: 6.9882e-04 - mse: 6.9882e-04\n",
      "Epoch 18/100\n",
      "31/31 [==============================] - 0s 1ms/step - loss: 6.6607e-04 - mse: 6.6607e-04\n",
      "Epoch 19/100\n",
      "31/31 [==============================] - 0s 1ms/step - loss: 6.4460e-04 - mse: 6.4460e-04\n",
      "Epoch 20/100\n",
      "31/31 [==============================] - 0s 2ms/step - loss: 6.2926e-04 - mse: 6.2926e-04\n",
      "Epoch 21/100\n",
      "31/31 [==============================] - 0s 2ms/step - loss: 6.1942e-04 - mse: 6.1942e-04\n",
      "Epoch 22/100\n",
      "31/31 [==============================] - 0s 1ms/step - loss: 6.1296e-04 - mse: 6.1296e-04\n",
      "Epoch 23/100\n",
      "31/31 [==============================] - 0s 1ms/step - loss: 6.1025e-04 - mse: 6.1025e-04\n",
      "Epoch 24/100\n",
      "31/31 [==============================] - 0s 1ms/step - loss: 6.0728e-04 - mse: 6.0728e-04\n",
      "Epoch 25/100\n",
      "31/31 [==============================] - 0s 1ms/step - loss: 6.0561e-04 - mse: 6.0561e-04\n",
      "Epoch 26/100\n",
      "31/31 [==============================] - 0s 1ms/step - loss: 6.0374e-04 - mse: 6.0374e-04\n",
      "Epoch 27/100\n",
      "31/31 [==============================] - 0s 1ms/step - loss: 6.0273e-04 - mse: 6.0273e-04\n",
      "Epoch 28/100\n",
      "31/31 [==============================] - 0s 1ms/step - loss: 6.0157e-04 - mse: 6.0157e-04\n",
      "Epoch 29/100\n",
      "31/31 [==============================] - 0s 1ms/step - loss: 6.0260e-04 - mse: 6.0260e-04\n",
      "Epoch 30/100\n",
      "31/31 [==============================] - 0s 2ms/step - loss: 6.0175e-04 - mse: 6.0175e-04\n",
      "Epoch 31/100\n",
      "31/31 [==============================] - 0s 1ms/step - loss: 6.0065e-04 - mse: 6.0065e-04\n",
      "Epoch 32/100\n",
      "31/31 [==============================] - 0s 1ms/step - loss: 6.0155e-04 - mse: 6.0155e-04\n",
      "Epoch 33/100\n",
      "31/31 [==============================] - 0s 1ms/step - loss: 6.0039e-04 - mse: 6.0039e-04\n",
      "Epoch 34/100\n",
      "31/31 [==============================] - 0s 1ms/step - loss: 6.0010e-04 - mse: 6.0010e-04\n",
      "Epoch 35/100\n",
      "31/31 [==============================] - 0s 1ms/step - loss: 5.9994e-04 - mse: 5.9994e-04\n",
      "Epoch 36/100\n",
      "31/31 [==============================] - 0s 1ms/step - loss: 5.9939e-04 - mse: 5.9939e-04\n",
      "Epoch 37/100\n",
      "31/31 [==============================] - 0s 1ms/step - loss: 6.0001e-04 - mse: 6.0001e-04\n",
      "Epoch 38/100\n",
      "31/31 [==============================] - 0s 1ms/step - loss: 6.0013e-04 - mse: 6.0013e-04\n",
      "Epoch 39/100\n",
      "31/31 [==============================] - 0s 1ms/step - loss: 6.0011e-04 - mse: 6.0011e-04\n",
      "Epoch 40/100\n",
      "31/31 [==============================] - 0s 2ms/step - loss: 5.9971e-04 - mse: 5.9971e-04\n",
      "Epoch 41/100\n",
      "31/31 [==============================] - 0s 2ms/step - loss: 5.9948e-04 - mse: 5.9948e-04\n",
      "Epoch 42/100\n",
      "31/31 [==============================] - 0s 2ms/step - loss: 5.9964e-04 - mse: 5.9964e-04\n",
      "Epoch 43/100\n",
      "31/31 [==============================] - 0s 1ms/step - loss: 6.0215e-04 - mse: 6.0215e-04\n",
      "Epoch 44/100\n",
      "31/31 [==============================] - 0s 1ms/step - loss: 5.9974e-04 - mse: 5.9974e-04\n",
      "Epoch 45/100\n",
      "31/31 [==============================] - 0s 1ms/step - loss: 5.9986e-04 - mse: 5.9986e-04\n",
      "Epoch 46/100\n",
      "31/31 [==============================] - 0s 1ms/step - loss: 5.9948e-04 - mse: 5.9948e-04\n",
      "Epoch 47/100\n",
      "31/31 [==============================] - 0s 1ms/step - loss: 5.9893e-04 - mse: 5.9893e-04\n",
      "Epoch 48/100\n",
      "31/31 [==============================] - 0s 1ms/step - loss: 5.9967e-04 - mse: 5.9967e-04\n",
      "Epoch 49/100\n",
      "31/31 [==============================] - 0s 1ms/step - loss: 5.9872e-04 - mse: 5.9872e-04\n",
      "Epoch 50/100\n",
      "31/31 [==============================] - 0s 1ms/step - loss: 5.9889e-04 - mse: 5.9889e-04\n",
      "Epoch 51/100\n",
      "31/31 [==============================] - 0s 1ms/step - loss: 5.9878e-04 - mse: 5.9878e-04\n",
      "Epoch 52/100\n",
      "31/31 [==============================] - 0s 1ms/step - loss: 5.9968e-04 - mse: 5.9968e-04\n",
      "Epoch 53/100\n",
      "31/31 [==============================] - 0s 1ms/step - loss: 5.9896e-04 - mse: 5.9896e-04\n",
      "Epoch 54/100\n",
      "31/31 [==============================] - 0s 1ms/step - loss: 5.9950e-04 - mse: 5.9950e-04\n",
      "Epoch 55/100\n",
      "31/31 [==============================] - 0s 1ms/step - loss: 5.9880e-04 - mse: 5.9880e-04\n",
      "Epoch 56/100\n",
      "31/31 [==============================] - 0s 1ms/step - loss: 5.9789e-04 - mse: 5.9789e-04\n",
      "Epoch 57/100\n",
      "31/31 [==============================] - 0s 1ms/step - loss: 5.9820e-04 - mse: 5.9820e-04\n",
      "Epoch 58/100\n",
      "31/31 [==============================] - 0s 1ms/step - loss: 5.9870e-04 - mse: 5.9870e-04\n",
      "Epoch 59/100\n",
      "31/31 [==============================] - 0s 1ms/step - loss: 5.9829e-04 - mse: 5.9829e-04\n",
      "Epoch 60/100\n",
      "31/31 [==============================] - 0s 1ms/step - loss: 5.9806e-04 - mse: 5.9806e-04\n",
      "Epoch 61/100\n",
      "31/31 [==============================] - 0s 1ms/step - loss: 5.9763e-04 - mse: 5.9763e-04\n",
      "Epoch 62/100\n",
      "31/31 [==============================] - 0s 1ms/step - loss: 5.9638e-04 - mse: 5.9638e-04\n",
      "Epoch 63/100\n",
      "31/31 [==============================] - 0s 1ms/step - loss: 5.9840e-04 - mse: 5.9840e-04\n",
      "Epoch 64/100\n",
      "31/31 [==============================] - 0s 1ms/step - loss: 5.9918e-04 - mse: 5.9918e-04\n",
      "Epoch 65/100\n",
      "31/31 [==============================] - 0s 1ms/step - loss: 5.9702e-04 - mse: 5.9702e-04\n",
      "Epoch 66/100\n",
      "31/31 [==============================] - 0s 1ms/step - loss: 5.9716e-04 - mse: 5.9716e-04\n",
      "Epoch 67/100\n",
      "31/31 [==============================] - 0s 2ms/step - loss: 5.9694e-04 - mse: 5.9694e-04\n",
      "Epoch 68/100\n",
      "31/31 [==============================] - 0s 1ms/step - loss: 5.9876e-04 - mse: 5.9876e-04\n",
      "Epoch 69/100\n",
      "31/31 [==============================] - 0s 1ms/step - loss: 5.9752e-04 - mse: 5.9752e-04\n",
      "Epoch 70/100\n",
      "31/31 [==============================] - 0s 1ms/step - loss: 5.9714e-04 - mse: 5.9714e-04\n",
      "Epoch 71/100\n",
      "31/31 [==============================] - 0s 1ms/step - loss: 5.9678e-04 - mse: 5.9678e-04\n",
      "Epoch 72/100\n",
      "31/31 [==============================] - 0s 1ms/step - loss: 5.9691e-04 - mse: 5.9691e-04\n",
      "Epoch 73/100\n",
      "31/31 [==============================] - 0s 1ms/step - loss: 5.9697e-04 - mse: 5.9697e-04\n",
      "Epoch 74/100\n",
      "31/31 [==============================] - 0s 1ms/step - loss: 5.9614e-04 - mse: 5.9614e-04\n",
      "Epoch 75/100\n",
      "31/31 [==============================] - 0s 2ms/step - loss: 5.9622e-04 - mse: 5.9622e-04\n",
      "Epoch 76/100\n",
      "31/31 [==============================] - 0s 1ms/step - loss: 5.9628e-04 - mse: 5.9628e-04\n",
      "Epoch 77/100\n",
      "31/31 [==============================] - 0s 1ms/step - loss: 5.9700e-04 - mse: 5.9700e-04\n",
      "Epoch 78/100\n",
      "31/31 [==============================] - 0s 1ms/step - loss: 5.9643e-04 - mse: 5.9643e-04\n",
      "Epoch 79/100\n",
      "31/31 [==============================] - 0s 1ms/step - loss: 5.9577e-04 - mse: 5.9577e-04\n",
      "Epoch 80/100\n",
      "31/31 [==============================] - 0s 1ms/step - loss: 5.9662e-04 - mse: 5.9662e-04\n",
      "Epoch 81/100\n",
      "31/31 [==============================] - 0s 1ms/step - loss: 5.9574e-04 - mse: 5.9574e-04\n",
      "Epoch 82/100\n",
      "31/31 [==============================] - 0s 2ms/step - loss: 5.9542e-04 - mse: 5.9542e-04\n",
      "Epoch 83/100\n",
      "31/31 [==============================] - 0s 2ms/step - loss: 5.9584e-04 - mse: 5.9584e-04\n",
      "Epoch 84/100\n",
      "31/31 [==============================] - 0s 1ms/step - loss: 5.9523e-04 - mse: 5.9523e-04\n",
      "Epoch 85/100\n",
      "31/31 [==============================] - 0s 2ms/step - loss: 5.9548e-04 - mse: 5.9548e-04\n",
      "Epoch 86/100\n",
      "31/31 [==============================] - 0s 2ms/step - loss: 5.9517e-04 - mse: 5.9517e-04\n",
      "Epoch 87/100\n",
      "31/31 [==============================] - 0s 1ms/step - loss: 5.9518e-04 - mse: 5.9518e-04\n",
      "Epoch 88/100\n",
      "31/31 [==============================] - 0s 2ms/step - loss: 5.9535e-04 - mse: 5.9535e-04\n",
      "Epoch 89/100\n",
      "31/31 [==============================] - 0s 1ms/step - loss: 5.9547e-04 - mse: 5.9547e-04\n",
      "Epoch 90/100\n",
      "31/31 [==============================] - 0s 1ms/step - loss: 5.9474e-04 - mse: 5.9474e-04\n",
      "Epoch 91/100\n",
      "31/31 [==============================] - 0s 1ms/step - loss: 5.9490e-04 - mse: 5.9490e-04\n",
      "Epoch 92/100\n",
      "31/31 [==============================] - 0s 2ms/step - loss: 5.9558e-04 - mse: 5.9558e-04\n",
      "Epoch 93/100\n",
      "31/31 [==============================] - 0s 2ms/step - loss: 5.9532e-04 - mse: 5.9532e-04\n",
      "Epoch 94/100\n",
      "31/31 [==============================] - 0s 2ms/step - loss: 5.9489e-04 - mse: 5.9489e-04\n",
      "Epoch 95/100\n",
      "31/31 [==============================] - 0s 2ms/step - loss: 5.9522e-04 - mse: 5.9522e-04\n",
      "Epoch 96/100\n",
      "31/31 [==============================] - 0s 2ms/step - loss: 5.9385e-04 - mse: 5.9385e-04\n",
      "Epoch 97/100\n",
      "31/31 [==============================] - 0s 2ms/step - loss: 5.9368e-04 - mse: 5.9368e-04\n",
      "Epoch 98/100\n",
      "31/31 [==============================] - 0s 2ms/step - loss: 5.9491e-04 - mse: 5.9491e-04\n",
      "Epoch 99/100\n",
      "31/31 [==============================] - 0s 2ms/step - loss: 5.9500e-04 - mse: 5.9500e-04\n",
      "Epoch 100/100\n",
      "31/31 [==============================] - 0s 2ms/step - loss: 5.9428e-04 - mse: 5.9428e-04\n"
     ]
    },
    {
     "data": {
      "text/plain": [
       "<keras.callbacks.History at 0x2b108932df0>"
      ]
     },
     "execution_count": 334,
     "metadata": {},
     "output_type": "execute_result"
    }
   ],
   "source": [
    "model.compile(optimizer='SGD', loss='mse', metrics=['mse'])\n",
    "model.fit(X_train, y_train, epochs=100)"
   ]
  },
  {
   "cell_type": "code",
   "execution_count": 335,
   "metadata": {},
   "outputs": [
    {
     "name": "stdout",
     "output_type": "stream",
     "text": [
      "8/8 [==============================] - 0s 929us/step\n"
     ]
    }
   ],
   "source": [
    "y_pred = model.predict(X_test)"
   ]
  },
  {
   "cell_type": "code",
   "execution_count": 337,
   "metadata": {},
   "outputs": [
    {
     "data": {
      "text/plain": [
       "(242, 1)"
      ]
     },
     "execution_count": 337,
     "metadata": {},
     "output_type": "execute_result"
    }
   ],
   "source": [
    "y_pred.shape"
   ]
  },
  {
   "cell_type": "code",
   "execution_count": 219,
   "metadata": {},
   "outputs": [
    {
     "data": {
      "image/png": "[encoded data removed]",
      "text/plain": [
       "<Figure size 640x480 with 1 Axes>"
      ]
     },
     "metadata": {},
     "output_type": "display_data"
    }
   ],
   "source": [
    "plt.figure()\n",
    "plt.plot(y_test, color='red', label='Real y')\n",
    "plt.plot(y_pred, color='blue', label='Predicted Y')\n",
    "plt.legend()\n",
    "plt.show()"
   ]
  },
  {
   "cell_type": "code",
   "execution_count": 220,
   "metadata": {},
   "outputs": [],
   "source": [
    "model2 = Sequential()\n",
    "model2.add(LSTM(units=20, activation='relu', return_sequences=True, input_shape=(5,4)))\n",
    "model2.add(LSTM(units=40, activation='relu', return_sequences=True))\n",
    "model2.add(LSTM(units=20, activation='relu'))\n",
    "model2.add(Dense(1))"
   ]
  },
  {
   "cell_type": "code",
   "execution_count": 221,
   "metadata": {},
   "outputs": [
    {
     "name": "stdout",
     "output_type": "stream",
     "text": [
      "Model: \"sequential_9\"\n",
      "_________________________________________________________________\n",
      " Layer (type)                Output Shape              Param #   \n",
      "=================================================================\n",
      " lstm_3 (LSTM)               (None, 5, 20)             2000      \n",
      "                                                                 \n",
      " lstm_4 (LSTM)               (None, 5, 40)             9760      \n",
      "                                                                 \n",
      " lstm_5 (LSTM)               (None, 20)                4880      \n",
      "                                                                 \n",
      " dense_15 (Dense)            (None, 1)                 21        \n",
      "                                                                 \n",
      "=================================================================\n",
      "Total params: 16,661\n",
      "Trainable params: 16,661\n",
      "Non-trainable params: 0\n",
      "_________________________________________________________________\n"
     ]
    }
   ],
   "source": [
    "model2.summary()"
   ]
  },
  {
   "cell_type": "code",
   "execution_count": 222,
   "metadata": {},
   "outputs": [
    {
     "name": "stdout",
     "output_type": "stream",
     "text": [
      "Epoch 1/100\n",
      "11/11 [==============================] - 2s 3ms/step - loss: 0.0920\n",
      "Epoch 2/100\n",
      "11/11 [==============================] - 0s 3ms/step - loss: 0.0663\n",
      "Epoch 3/100\n",
      "11/11 [==============================] - 0s 3ms/step - loss: 0.0326\n",
      "Epoch 4/100\n",
      "11/11 [==============================] - 0s 3ms/step - loss: 0.0059\n",
      "Epoch 5/100\n",
      "11/11 [==============================] - 0s 3ms/step - loss: 0.0047\n",
      "Epoch 6/100\n",
      "11/11 [==============================] - 0s 3ms/step - loss: 0.0040\n",
      "Epoch 7/100\n",
      "11/11 [==============================] - 0s 3ms/step - loss: 0.0035\n",
      "Epoch 8/100\n",
      "11/11 [==============================] - 0s 3ms/step - loss: 0.0032\n",
      "Epoch 9/100\n",
      "11/11 [==============================] - 0s 3ms/step - loss: 0.0031\n",
      "Epoch 10/100\n",
      "11/11 [==============================] - 0s 3ms/step - loss: 0.0029\n",
      "Epoch 11/100\n",
      "11/11 [==============================] - 0s 3ms/step - loss: 0.0028\n",
      "Epoch 12/100\n",
      "11/11 [==============================] - 0s 3ms/step - loss: 0.0027\n",
      "Epoch 13/100\n",
      "11/11 [==============================] - 0s 3ms/step - loss: 0.0027\n",
      "Epoch 14/100\n",
      "11/11 [==============================] - 0s 3ms/step - loss: 0.0026\n",
      "Epoch 15/100\n",
      "11/11 [==============================] - 0s 3ms/step - loss: 0.0028\n",
      "Epoch 16/100\n",
      "11/11 [==============================] - 0s 3ms/step - loss: 0.0025\n",
      "Epoch 17/100\n",
      "11/11 [==============================] - 0s 3ms/step - loss: 0.0025\n",
      "Epoch 18/100\n",
      "11/11 [==============================] - 0s 3ms/step - loss: 0.0024\n",
      "Epoch 19/100\n",
      "11/11 [==============================] - 0s 3ms/step - loss: 0.0024\n",
      "Epoch 20/100\n",
      "11/11 [==============================] - 0s 3ms/step - loss: 0.0023\n",
      "Epoch 21/100\n",
      "11/11 [==============================] - 0s 3ms/step - loss: 0.0023\n",
      "Epoch 22/100\n",
      "11/11 [==============================] - 0s 3ms/step - loss: 0.0022\n",
      "Epoch 23/100\n",
      "11/11 [==============================] - 0s 3ms/step - loss: 0.0022\n",
      "Epoch 24/100\n",
      "11/11 [==============================] - 0s 3ms/step - loss: 0.0022\n",
      "Epoch 25/100\n",
      "11/11 [==============================] - 0s 3ms/step - loss: 0.0022\n",
      "Epoch 26/100\n",
      "11/11 [==============================] - 0s 3ms/step - loss: 0.0022\n",
      "Epoch 27/100\n",
      "11/11 [==============================] - 0s 3ms/step - loss: 0.0021\n",
      "Epoch 28/100\n",
      "11/11 [==============================] - 0s 3ms/step - loss: 0.0021\n",
      "Epoch 29/100\n",
      "11/11 [==============================] - 0s 3ms/step - loss: 0.0021\n",
      "Epoch 30/100\n",
      "11/11 [==============================] - 0s 3ms/step - loss: 0.0020\n",
      "Epoch 31/100\n",
      "11/11 [==============================] - 0s 3ms/step - loss: 0.0019\n",
      "Epoch 32/100\n",
      "11/11 [==============================] - 0s 3ms/step - loss: 0.0019\n",
      "Epoch 33/100\n",
      "11/11 [==============================] - 0s 3ms/step - loss: 0.0019\n",
      "Epoch 34/100\n",
      "11/11 [==============================] - 0s 3ms/step - loss: 0.0019\n",
      "Epoch 35/100\n",
      "11/11 [==============================] - 0s 3ms/step - loss: 0.0019\n",
      "Epoch 36/100\n",
      "11/11 [==============================] - 0s 3ms/step - loss: 0.0018\n",
      "Epoch 37/100\n",
      "11/11 [==============================] - 0s 3ms/step - loss: 0.0018\n",
      "Epoch 38/100\n",
      "11/11 [==============================] - 0s 3ms/step - loss: 0.0017\n",
      "Epoch 39/100\n",
      "11/11 [==============================] - 0s 3ms/step - loss: 0.0017\n",
      "Epoch 40/100\n",
      "11/11 [==============================] - 0s 3ms/step - loss: 0.0017\n",
      "Epoch 41/100\n",
      "11/11 [==============================] - 0s 3ms/step - loss: 0.0017\n",
      "Epoch 42/100\n",
      "11/11 [==============================] - 0s 3ms/step - loss: 0.0016\n",
      "Epoch 43/100\n",
      "11/11 [==============================] - 0s 3ms/step - loss: 0.0016\n",
      "Epoch 44/100\n",
      "11/11 [==============================] - 0s 3ms/step - loss: 0.0015\n",
      "Epoch 45/100\n",
      "11/11 [==============================] - 0s 3ms/step - loss: 0.0015\n",
      "Epoch 46/100\n",
      "11/11 [==============================] - 0s 3ms/step - loss: 0.0015\n",
      "Epoch 47/100\n",
      "11/11 [==============================] - 0s 3ms/step - loss: 0.0014\n",
      "Epoch 48/100\n",
      "11/11 [==============================] - 0s 3ms/step - loss: 0.0015\n",
      "Epoch 49/100\n",
      "11/11 [==============================] - 0s 3ms/step - loss: 0.0014\n",
      "Epoch 50/100\n",
      "11/11 [==============================] - 0s 3ms/step - loss: 0.0014\n",
      "Epoch 51/100\n",
      "11/11 [==============================] - 0s 3ms/step - loss: 0.0014\n",
      "Epoch 52/100\n",
      "11/11 [==============================] - 0s 3ms/step - loss: 0.0014\n",
      "Epoch 53/100\n",
      "11/11 [==============================] - 0s 3ms/step - loss: 0.0014\n",
      "Epoch 54/100\n",
      "11/11 [==============================] - 0s 3ms/step - loss: 0.0013\n",
      "Epoch 55/100\n",
      "11/11 [==============================] - 0s 3ms/step - loss: 0.0013\n",
      "Epoch 56/100\n",
      "11/11 [==============================] - 0s 3ms/step - loss: 0.0013\n",
      "Epoch 57/100\n",
      "11/11 [==============================] - 0s 3ms/step - loss: 0.0013\n",
      "Epoch 58/100\n",
      "11/11 [==============================] - 0s 3ms/step - loss: 0.0013\n",
      "Epoch 59/100\n",
      "11/11 [==============================] - 0s 3ms/step - loss: 0.0013\n",
      "Epoch 60/100\n",
      "11/11 [==============================] - 0s 3ms/step - loss: 0.0012\n",
      "Epoch 61/100\n",
      "11/11 [==============================] - 0s 3ms/step - loss: 0.0013\n",
      "Epoch 62/100\n",
      "11/11 [==============================] - 0s 3ms/step - loss: 0.0012\n",
      "Epoch 63/100\n",
      "11/11 [==============================] - 0s 3ms/step - loss: 0.0012\n",
      "Epoch 64/100\n",
      "11/11 [==============================] - 0s 3ms/step - loss: 0.0012\n",
      "Epoch 65/100\n",
      "11/11 [==============================] - 0s 3ms/step - loss: 0.0014\n",
      "Epoch 66/100\n",
      "11/11 [==============================] - 0s 3ms/step - loss: 0.0013\n",
      "Epoch 67/100\n",
      "11/11 [==============================] - 0s 3ms/step - loss: 0.0013\n",
      "Epoch 68/100\n",
      "11/11 [==============================] - 0s 3ms/step - loss: 0.0012\n",
      "Epoch 69/100\n",
      "11/11 [==============================] - 0s 3ms/step - loss: 0.0012\n",
      "Epoch 70/100\n",
      "11/11 [==============================] - 0s 3ms/step - loss: 0.0012\n",
      "Epoch 71/100\n",
      "11/11 [==============================] - 0s 3ms/step - loss: 0.0011\n",
      "Epoch 72/100\n",
      "11/11 [==============================] - 0s 3ms/step - loss: 0.0012\n",
      "Epoch 73/100\n",
      "11/11 [==============================] - 0s 3ms/step - loss: 0.0011\n",
      "Epoch 74/100\n",
      "11/11 [==============================] - 0s 3ms/step - loss: 0.0011\n",
      "Epoch 75/100\n",
      "11/11 [==============================] - 0s 3ms/step - loss: 0.0013\n",
      "Epoch 76/100\n",
      "11/11 [==============================] - 0s 3ms/step - loss: 0.0011\n",
      "Epoch 77/100\n",
      "11/11 [==============================] - 0s 3ms/step - loss: 0.0012\n",
      "Epoch 78/100\n",
      "11/11 [==============================] - 0s 3ms/step - loss: 0.0014\n",
      "Epoch 79/100\n",
      "11/11 [==============================] - 0s 3ms/step - loss: 0.0014\n",
      "Epoch 80/100\n",
      "11/11 [==============================] - 0s 3ms/step - loss: 0.0013\n",
      "Epoch 81/100\n",
      "11/11 [==============================] - 0s 3ms/step - loss: 0.0012\n",
      "Epoch 82/100\n",
      "11/11 [==============================] - 0s 3ms/step - loss: 0.0012\n",
      "Epoch 83/100\n",
      "11/11 [==============================] - 0s 3ms/step - loss: 0.0012\n",
      "Epoch 84/100\n",
      "11/11 [==============================] - 0s 3ms/step - loss: 0.0012\n",
      "Epoch 85/100\n",
      "11/11 [==============================] - 0s 3ms/step - loss: 0.0011\n",
      "Epoch 86/100\n",
      "11/11 [==============================] - 0s 3ms/step - loss: 0.0011\n",
      "Epoch 87/100\n",
      "11/11 [==============================] - 0s 3ms/step - loss: 0.0012\n",
      "Epoch 88/100\n",
      "11/11 [==============================] - 0s 3ms/step - loss: 0.0011\n",
      "Epoch 89/100\n",
      "11/11 [==============================] - 0s 3ms/step - loss: 0.0010\n",
      "Epoch 90/100\n",
      "11/11 [==============================] - 0s 3ms/step - loss: 0.0011\n",
      "Epoch 91/100\n",
      "11/11 [==============================] - 0s 3ms/step - loss: 0.0011\n",
      "Epoch 92/100\n",
      "11/11 [==============================] - 0s 3ms/step - loss: 0.0011\n",
      "Epoch 93/100\n",
      "11/11 [==============================] - 0s 3ms/step - loss: 0.0010\n",
      "Epoch 94/100\n",
      "11/11 [==============================] - 0s 3ms/step - loss: 0.0011\n",
      "Epoch 95/100\n",
      "11/11 [==============================] - 0s 3ms/step - loss: 0.0012\n",
      "Epoch 96/100\n",
      "11/11 [==============================] - 0s 4ms/step - loss: 0.0014\n",
      "Epoch 97/100\n",
      "11/11 [==============================] - 0s 3ms/step - loss: 0.0011\n",
      "Epoch 98/100\n",
      "11/11 [==============================] - 0s 3ms/step - loss: 0.0010\n",
      "Epoch 99/100\n",
      "11/11 [==============================] - 0s 3ms/step - loss: 0.0011\n",
      "Epoch 100/100\n",
      "11/11 [==============================] - 0s 3ms/step - loss: 0.0010\n"
     ]
    },
    {
     "data": {
      "text/plain": [
       "<keras.callbacks.History at 0x2b0f5a3a5e0>"
      ]
     },
     "execution_count": 222,
     "metadata": {},
     "output_type": "execute_result"
    }
   ],
   "source": [
    "model2.compile(optimizer='adam', loss='mse')\n",
    "model2.fit(X_train, y_train, epochs=100)"
   ]
  },
  {
   "cell_type": "code",
   "execution_count": 315,
   "metadata": {},
   "outputs": [
    {
     "ename": "InvalidArgumentError",
     "evalue": "Graph execution error:\n\nDetected at node 'sequential_9/lstm_3/while/lstm_cell_3/MatMul' defined at (most recent call last):\n    File \"c:\\ProgramData\\Anaconda3\\envs\\dl1\\lib\\runpy.py\", line 197, in _run_module_as_main\n      return _run_code(code, main_globals, None,\n    File \"c:\\ProgramData\\Anaconda3\\envs\\dl1\\lib\\runpy.py\", line 87, in _run_code\n      exec(code, run_globals)\n    File \"c:\\ProgramData\\Anaconda3\\envs\\dl1\\lib\\site-packages\\ipykernel_launcher.py\", line 17, in <module>\n      app.launch_new_instance()\n    File \"c:\\ProgramData\\Anaconda3\\envs\\dl1\\lib\\site-packages\\traitlets\\config\\application.py\", line 992, in launch_instance\n      app.start()\n    File \"c:\\ProgramData\\Anaconda3\\envs\\dl1\\lib\\site-packages\\ipykernel\\kernelapp.py\", line 711, in start\n      self.io_loop.start()\n    File \"c:\\ProgramData\\Anaconda3\\envs\\dl1\\lib\\site-packages\\tornado\\platform\\asyncio.py\", line 215, in start\n      self.asyncio_loop.run_forever()\n    File \"c:\\ProgramData\\Anaconda3\\envs\\dl1\\lib\\asyncio\\base_events.py\", line 601, in run_forever\n      self._run_once()\n    File \"c:\\ProgramData\\Anaconda3\\envs\\dl1\\lib\\asyncio\\base_events.py\", line 1905, in _run_once\n      handle._run()\n    File \"c:\\ProgramData\\Anaconda3\\envs\\dl1\\lib\\asyncio\\events.py\", line 80, in _run\n      self._context.run(self._callback, *self._args)\n    File \"c:\\ProgramData\\Anaconda3\\envs\\dl1\\lib\\site-packages\\ipykernel\\kernelbase.py\", line 510, in dispatch_queue\n      await self.process_one()\n    File \"c:\\ProgramData\\Anaconda3\\envs\\dl1\\lib\\site-packages\\ipykernel\\kernelbase.py\", line 499, in process_one\n      await dispatch(*args)\n    File \"c:\\ProgramData\\Anaconda3\\envs\\dl1\\lib\\site-packages\\ipykernel\\kernelbase.py\", line 406, in dispatch_shell\n      await result\n    File \"c:\\ProgramData\\Anaconda3\\envs\\dl1\\lib\\site-packages\\ipykernel\\kernelbase.py\", line 729, in execute_request\n      reply_content = await reply_content\n    File \"c:\\ProgramData\\Anaconda3\\envs\\dl1\\lib\\site-packages\\ipykernel\\ipkernel.py\", line 411, in do_execute\n      res = shell.run_cell(\n    File \"c:\\ProgramData\\Anaconda3\\envs\\dl1\\lib\\site-packages\\ipykernel\\zmqshell.py\", line 531, in run_cell\n      return super().run_cell(*args, **kwargs)\n    File \"c:\\ProgramData\\Anaconda3\\envs\\dl1\\lib\\site-packages\\IPython\\core\\interactiveshell.py\", line 2961, in run_cell\n      result = self._run_cell(\n    File \"c:\\ProgramData\\Anaconda3\\envs\\dl1\\lib\\site-packages\\IPython\\core\\interactiveshell.py\", line 3016, in _run_cell\n      result = runner(coro)\n    File \"c:\\ProgramData\\Anaconda3\\envs\\dl1\\lib\\site-packages\\IPython\\core\\async_helpers.py\", line 129, in _pseudo_sync_runner\n      coro.send(None)\n    File \"c:\\ProgramData\\Anaconda3\\envs\\dl1\\lib\\site-packages\\IPython\\core\\interactiveshell.py\", line 3221, in run_cell_async\n      has_raised = await self.run_ast_nodes(code_ast.body, cell_name,\n    File \"c:\\ProgramData\\Anaconda3\\envs\\dl1\\lib\\site-packages\\IPython\\core\\interactiveshell.py\", line 3400, in run_ast_nodes\n      if await self.run_code(code, result, async_=asy):\n    File \"c:\\ProgramData\\Anaconda3\\envs\\dl1\\lib\\site-packages\\IPython\\core\\interactiveshell.py\", line 3460, in run_code\n      exec(code_obj, self.user_global_ns, self.user_ns)\n    File \"C:\\Users\\user\\AppData\\Local\\Temp\\ipykernel_32072\\3772403742.py\", line 1, in <module>\n      y_pred = model2.predict(X_test)\n    File \"c:\\ProgramData\\Anaconda3\\envs\\dl1\\lib\\site-packages\\keras\\utils\\traceback_utils.py\", line 65, in error_handler\n      return fn(*args, **kwargs)\n    File \"c:\\ProgramData\\Anaconda3\\envs\\dl1\\lib\\site-packages\\keras\\engine\\training.py\", line 2382, in predict\n      tmp_batch_outputs = self.predict_function(iterator)\n    File \"c:\\ProgramData\\Anaconda3\\envs\\dl1\\lib\\site-packages\\keras\\engine\\training.py\", line 2169, in predict_function\n      return step_function(self, iterator)\n    File \"c:\\ProgramData\\Anaconda3\\envs\\dl1\\lib\\site-packages\\keras\\engine\\training.py\", line 2155, in step_function\n      outputs = model.distribute_strategy.run(run_step, args=(data,))\n    File \"c:\\ProgramData\\Anaconda3\\envs\\dl1\\lib\\site-packages\\keras\\engine\\training.py\", line 2143, in run_step\n      outputs = model.predict_step(data)\n    File \"c:\\ProgramData\\Anaconda3\\envs\\dl1\\lib\\site-packages\\keras\\engine\\training.py\", line 2111, in predict_step\n      return self(x, training=False)\n    File \"c:\\ProgramData\\Anaconda3\\envs\\dl1\\lib\\site-packages\\keras\\utils\\traceback_utils.py\", line 65, in error_handler\n      return fn(*args, **kwargs)\n    File \"c:\\ProgramData\\Anaconda3\\envs\\dl1\\lib\\site-packages\\keras\\engine\\training.py\", line 558, in __call__\n      return super().__call__(*args, **kwargs)\n    File \"c:\\ProgramData\\Anaconda3\\envs\\dl1\\lib\\site-packages\\keras\\utils\\traceback_utils.py\", line 65, in error_handler\n      return fn(*args, **kwargs)\n    File \"c:\\ProgramData\\Anaconda3\\envs\\dl1\\lib\\site-packages\\keras\\engine\\base_layer.py\", line 1145, in __call__\n      outputs = call_fn(inputs, *args, **kwargs)\n    File \"c:\\ProgramData\\Anaconda3\\envs\\dl1\\lib\\site-packages\\keras\\utils\\traceback_utils.py\", line 96, in error_handler\n      return fn(*args, **kwargs)\n    File \"c:\\ProgramData\\Anaconda3\\envs\\dl1\\lib\\site-packages\\keras\\engine\\sequential.py\", line 412, in call\n      return super().call(inputs, training=training, mask=mask)\n    File \"c:\\ProgramData\\Anaconda3\\envs\\dl1\\lib\\site-packages\\keras\\engine\\functional.py\", line 512, in call\n      return self._run_internal_graph(inputs, training=training, mask=mask)\n    File \"c:\\ProgramData\\Anaconda3\\envs\\dl1\\lib\\site-packages\\keras\\engine\\functional.py\", line 669, in _run_internal_graph\n      outputs = node.layer(*args, **kwargs)\n    File \"c:\\ProgramData\\Anaconda3\\envs\\dl1\\lib\\site-packages\\keras\\layers\\rnn\\base_rnn.py\", line 556, in __call__\n      return super().__call__(inputs, **kwargs)\n    File \"c:\\ProgramData\\Anaconda3\\envs\\dl1\\lib\\site-packages\\keras\\utils\\traceback_utils.py\", line 65, in error_handler\n      return fn(*args, **kwargs)\n    File \"c:\\ProgramData\\Anaconda3\\envs\\dl1\\lib\\site-packages\\keras\\engine\\base_layer.py\", line 1145, in __call__\n      outputs = call_fn(inputs, *args, **kwargs)\n    File \"c:\\ProgramData\\Anaconda3\\envs\\dl1\\lib\\site-packages\\keras\\utils\\traceback_utils.py\", line 96, in error_handler\n      return fn(*args, **kwargs)\n    File \"c:\\ProgramData\\Anaconda3\\envs\\dl1\\lib\\site-packages\\keras\\layers\\rnn\\lstm.py\", line 625, in call\n      last_output, outputs, states = backend.rnn(\n    File \"c:\\ProgramData\\Anaconda3\\envs\\dl1\\lib\\site-packages\\keras\\backend.py\", line 5169, in rnn\n      final_outputs = tf.compat.v1.while_loop(\n    File \"c:\\ProgramData\\Anaconda3\\envs\\dl1\\lib\\site-packages\\keras\\backend.py\", line 5148, in _step\n      output, new_states = step_function(\n    File \"c:\\ProgramData\\Anaconda3\\envs\\dl1\\lib\\site-packages\\keras\\layers\\rnn\\lstm.py\", line 623, in step\n      return self.cell(inputs, states, **kwargs)\n    File \"c:\\ProgramData\\Anaconda3\\envs\\dl1\\lib\\site-packages\\keras\\utils\\traceback_utils.py\", line 65, in error_handler\n      return fn(*args, **kwargs)\n    File \"c:\\ProgramData\\Anaconda3\\envs\\dl1\\lib\\site-packages\\keras\\engine\\base_layer.py\", line 1145, in __call__\n      outputs = call_fn(inputs, *args, **kwargs)\n    File \"c:\\ProgramData\\Anaconda3\\envs\\dl1\\lib\\site-packages\\keras\\utils\\traceback_utils.py\", line 96, in error_handler\n      return fn(*args, **kwargs)\n    File \"c:\\ProgramData\\Anaconda3\\envs\\dl1\\lib\\site-packages\\keras\\layers\\rnn\\lstm.py\", line 327, in call\n      z = backend.dot(inputs, self.kernel)\n    File \"c:\\ProgramData\\Anaconda3\\envs\\dl1\\lib\\site-packages\\keras\\backend.py\", line 2464, in dot\n      out = tf.matmul(x, y)\nNode: 'sequential_9/lstm_3/while/lstm_cell_3/MatMul'\nMatrix size-incompatible: In[0]: [32,5], In[1]: [4,80]\n\t [[{{node sequential_9/lstm_3/while/lstm_cell_3/MatMul}}]] [Op:__inference_predict_function_129129]",
     "output_type": "error",
     "traceback": [
      "\u001b[1;31m---------------------------------------------------------------------------\u001b[0m",
      "\u001b[1;31mInvalidArgumentError\u001b[0m                      Traceback (most recent call last)",
      "Cell \u001b[1;32mIn[315], line 1\u001b[0m\n\u001b[1;32m----> 1\u001b[0m y_pred \u001b[39m=\u001b[39m model2\u001b[39m.\u001b[39;49mpredict(X_test)\n",
      "File \u001b[1;32mc:\\ProgramData\\Anaconda3\\envs\\dl1\\lib\\site-packages\\keras\\utils\\traceback_utils.py:70\u001b[0m, in \u001b[0;36mfilter_traceback.<locals>.error_handler\u001b[1;34m(*args, **kwargs)\u001b[0m\n\u001b[0;32m     67\u001b[0m     filtered_tb \u001b[39m=\u001b[39m _process_traceback_frames(e\u001b[39m.\u001b[39m__traceback__)\n\u001b[0;32m     68\u001b[0m     \u001b[39m# To get the full stack trace, call:\u001b[39;00m\n\u001b[0;32m     69\u001b[0m     \u001b[39m# `tf.debugging.disable_traceback_filtering()`\u001b[39;00m\n\u001b[1;32m---> 70\u001b[0m     \u001b[39mraise\u001b[39;00m e\u001b[39m.\u001b[39mwith_traceback(filtered_tb) \u001b[39mfrom\u001b[39;00m \u001b[39mNone\u001b[39m\n\u001b[0;32m     71\u001b[0m \u001b[39mfinally\u001b[39;00m:\n\u001b[0;32m     72\u001b[0m     \u001b[39mdel\u001b[39;00m filtered_tb\n",
      "File \u001b[1;32mc:\\ProgramData\\Anaconda3\\envs\\dl1\\lib\\site-packages\\tensorflow\\python\\eager\\execute.py:52\u001b[0m, in \u001b[0;36mquick_execute\u001b[1;34m(op_name, num_outputs, inputs, attrs, ctx, name)\u001b[0m\n\u001b[0;32m     50\u001b[0m \u001b[39mtry\u001b[39;00m:\n\u001b[0;32m     51\u001b[0m   ctx\u001b[39m.\u001b[39mensure_initialized()\n\u001b[1;32m---> 52\u001b[0m   tensors \u001b[39m=\u001b[39m pywrap_tfe\u001b[39m.\u001b[39mTFE_Py_Execute(ctx\u001b[39m.\u001b[39m_handle, device_name, op_name,\n\u001b[0;32m     53\u001b[0m                                       inputs, attrs, num_outputs)\n\u001b[0;32m     54\u001b[0m \u001b[39mexcept\u001b[39;00m core\u001b[39m.\u001b[39m_NotOkStatusException \u001b[39mas\u001b[39;00m e:\n\u001b[0;32m     55\u001b[0m   \u001b[39mif\u001b[39;00m name \u001b[39mis\u001b[39;00m \u001b[39mnot\u001b[39;00m \u001b[39mNone\u001b[39;00m:\n",
      "\u001b[1;31mInvalidArgumentError\u001b[0m: Graph execution error:\n\nDetected at node 'sequential_9/lstm_3/while/lstm_cell_3/MatMul' defined at (most recent call last):\n    File \"c:\\ProgramData\\Anaconda3\\envs\\dl1\\lib\\runpy.py\", line 197, in _run_module_as_main\n      return _run_code(code, main_globals, None,\n    File \"c:\\ProgramData\\Anaconda3\\envs\\dl1\\lib\\runpy.py\", line 87, in _run_code\n      exec(code, run_globals)\n    File \"c:\\ProgramData\\Anaconda3\\envs\\dl1\\lib\\site-packages\\ipykernel_launcher.py\", line 17, in <module>\n      app.launch_new_instance()\n    File \"c:\\ProgramData\\Anaconda3\\envs\\dl1\\lib\\site-packages\\traitlets\\config\\application.py\", line 992, in launch_instance\n      app.start()\n    File \"c:\\ProgramData\\Anaconda3\\envs\\dl1\\lib\\site-packages\\ipykernel\\kernelapp.py\", line 711, in start\n      self.io_loop.start()\n    File \"c:\\ProgramData\\Anaconda3\\envs\\dl1\\lib\\site-packages\\tornado\\platform\\asyncio.py\", line 215, in start\n      self.asyncio_loop.run_forever()\n    File \"c:\\ProgramData\\Anaconda3\\envs\\dl1\\lib\\asyncio\\base_events.py\", line 601, in run_forever\n      self._run_once()\n    File \"c:\\ProgramData\\Anaconda3\\envs\\dl1\\lib\\asyncio\\base_events.py\", line 1905, in _run_once\n      handle._run()\n    File \"c:\\ProgramData\\Anaconda3\\envs\\dl1\\lib\\asyncio\\events.py\", line 80, in _run\n      self._context.run(self._callback, *self._args)\n    File \"c:\\ProgramData\\Anaconda3\\envs\\dl1\\lib\\site-packages\\ipykernel\\kernelbase.py\", line 510, in dispatch_queue\n      await self.process_one()\n    File \"c:\\ProgramData\\Anaconda3\\envs\\dl1\\lib\\site-packages\\ipykernel\\kernelbase.py\", line 499, in process_one\n      await dispatch(*args)\n    File \"c:\\ProgramData\\Anaconda3\\envs\\dl1\\lib\\site-packages\\ipykernel\\kernelbase.py\", line 406, in dispatch_shell\n      await result\n    File \"c:\\ProgramData\\Anaconda3\\envs\\dl1\\lib\\site-packages\\ipykernel\\kernelbase.py\", line 729, in execute_request\n      reply_content = await reply_content\n    File \"c:\\ProgramData\\Anaconda3\\envs\\dl1\\lib\\site-packages\\ipykernel\\ipkernel.py\", line 411, in do_execute\n      res = shell.run_cell(\n    File \"c:\\ProgramData\\Anaconda3\\envs\\dl1\\lib\\site-packages\\ipykernel\\zmqshell.py\", line 531, in run_cell\n      return super().run_cell(*args, **kwargs)\n    File \"c:\\ProgramData\\Anaconda3\\envs\\dl1\\lib\\site-packages\\IPython\\core\\interactiveshell.py\", line 2961, in run_cell\n      result = self._run_cell(\n    File \"c:\\ProgramData\\Anaconda3\\envs\\dl1\\lib\\site-packages\\IPython\\core\\interactiveshell.py\", line 3016, in _run_cell\n      result = runner(coro)\n    File \"c:\\ProgramData\\Anaconda3\\envs\\dl1\\lib\\site-packages\\IPython\\core\\async_helpers.py\", line 129, in _pseudo_sync_runner\n      coro.send(None)\n    File \"c:\\ProgramData\\Anaconda3\\envs\\dl1\\lib\\site-packages\\IPython\\core\\interactiveshell.py\", line 3221, in run_cell_async\n      has_raised = await self.run_ast_nodes(code_ast.body, cell_name,\n    File \"c:\\ProgramData\\Anaconda3\\envs\\dl1\\lib\\site-packages\\IPython\\core\\interactiveshell.py\", line 3400, in run_ast_nodes\n      if await self.run_code(code, result, async_=asy):\n    File \"c:\\ProgramData\\Anaconda3\\envs\\dl1\\lib\\site-packages\\IPython\\core\\interactiveshell.py\", line 3460, in run_code\n      exec(code_obj, self.user_global_ns, self.user_ns)\n    File \"C:\\Users\\user\\AppData\\Local\\Temp\\ipykernel_32072\\3772403742.py\", line 1, in <module>\n      y_pred = model2.predict(X_test)\n    File \"c:\\ProgramData\\Anaconda3\\envs\\dl1\\lib\\site-packages\\keras\\utils\\traceback_utils.py\", line 65, in error_handler\n      return fn(*args, **kwargs)\n    File \"c:\\ProgramData\\Anaconda3\\envs\\dl1\\lib\\site-packages\\keras\\engine\\training.py\", line 2382, in predict\n      tmp_batch_outputs = self.predict_function(iterator)\n    File \"c:\\ProgramData\\Anaconda3\\envs\\dl1\\lib\\site-packages\\keras\\engine\\training.py\", line 2169, in predict_function\n      return step_function(self, iterator)\n    File \"c:\\ProgramData\\Anaconda3\\envs\\dl1\\lib\\site-packages\\keras\\engine\\training.py\", line 2155, in step_function\n      outputs = model.distribute_strategy.run(run_step, args=(data,))\n    File \"c:\\ProgramData\\Anaconda3\\envs\\dl1\\lib\\site-packages\\keras\\engine\\training.py\", line 2143, in run_step\n      outputs = model.predict_step(data)\n    File \"c:\\ProgramData\\Anaconda3\\envs\\dl1\\lib\\site-packages\\keras\\engine\\training.py\", line 2111, in predict_step\n      return self(x, training=False)\n    File \"c:\\ProgramData\\Anaconda3\\envs\\dl1\\lib\\site-packages\\keras\\utils\\traceback_utils.py\", line 65, in error_handler\n      return fn(*args, **kwargs)\n    File \"c:\\ProgramData\\Anaconda3\\envs\\dl1\\lib\\site-packages\\keras\\engine\\training.py\", line 558, in __call__\n      return super().__call__(*args, **kwargs)\n    File \"c:\\ProgramData\\Anaconda3\\envs\\dl1\\lib\\site-packages\\keras\\utils\\traceback_utils.py\", line 65, in error_handler\n      return fn(*args, **kwargs)\n    File \"c:\\ProgramData\\Anaconda3\\envs\\dl1\\lib\\site-packages\\keras\\engine\\base_layer.py\", line 1145, in __call__\n      outputs = call_fn(inputs, *args, **kwargs)\n    File \"c:\\ProgramData\\Anaconda3\\envs\\dl1\\lib\\site-packages\\keras\\utils\\traceback_utils.py\", line 96, in error_handler\n      return fn(*args, **kwargs)\n    File \"c:\\ProgramData\\Anaconda3\\envs\\dl1\\lib\\site-packages\\keras\\engine\\sequential.py\", line 412, in call\n      return super().call(inputs, training=training, mask=mask)\n    File \"c:\\ProgramData\\Anaconda3\\envs\\dl1\\lib\\site-packages\\keras\\engine\\functional.py\", line 512, in call\n      return self._run_internal_graph(inputs, training=training, mask=mask)\n    File \"c:\\ProgramData\\Anaconda3\\envs\\dl1\\lib\\site-packages\\keras\\engine\\functional.py\", line 669, in _run_internal_graph\n      outputs = node.layer(*args, **kwargs)\n    File \"c:\\ProgramData\\Anaconda3\\envs\\dl1\\lib\\site-packages\\keras\\layers\\rnn\\base_rnn.py\", line 556, in __call__\n      return super().__call__(inputs, **kwargs)\n    File \"c:\\ProgramData\\Anaconda3\\envs\\dl1\\lib\\site-packages\\keras\\utils\\traceback_utils.py\", line 65, in error_handler\n      return fn(*args, **kwargs)\n    File \"c:\\ProgramData\\Anaconda3\\envs\\dl1\\lib\\site-packages\\keras\\engine\\base_layer.py\", line 1145, in __call__\n      outputs = call_fn(inputs, *args, **kwargs)\n    File \"c:\\ProgramData\\Anaconda3\\envs\\dl1\\lib\\site-packages\\keras\\utils\\traceback_utils.py\", line 96, in error_handler\n      return fn(*args, **kwargs)\n    File \"c:\\ProgramData\\Anaconda3\\envs\\dl1\\lib\\site-packages\\keras\\layers\\rnn\\lstm.py\", line 625, in call\n      last_output, outputs, states = backend.rnn(\n    File \"c:\\ProgramData\\Anaconda3\\envs\\dl1\\lib\\site-packages\\keras\\backend.py\", line 5169, in rnn\n      final_outputs = tf.compat.v1.while_loop(\n    File \"c:\\ProgramData\\Anaconda3\\envs\\dl1\\lib\\site-packages\\keras\\backend.py\", line 5148, in _step\n      output, new_states = step_function(\n    File \"c:\\ProgramData\\Anaconda3\\envs\\dl1\\lib\\site-packages\\keras\\layers\\rnn\\lstm.py\", line 623, in step\n      return self.cell(inputs, states, **kwargs)\n    File \"c:\\ProgramData\\Anaconda3\\envs\\dl1\\lib\\site-packages\\keras\\utils\\traceback_utils.py\", line 65, in error_handler\n      return fn(*args, **kwargs)\n    File \"c:\\ProgramData\\Anaconda3\\envs\\dl1\\lib\\site-packages\\keras\\engine\\base_layer.py\", line 1145, in __call__\n      outputs = call_fn(inputs, *args, **kwargs)\n    File \"c:\\ProgramData\\Anaconda3\\envs\\dl1\\lib\\site-packages\\keras\\utils\\traceback_utils.py\", line 96, in error_handler\n      return fn(*args, **kwargs)\n    File \"c:\\ProgramData\\Anaconda3\\envs\\dl1\\lib\\site-packages\\keras\\layers\\rnn\\lstm.py\", line 327, in call\n      z = backend.dot(inputs, self.kernel)\n    File \"c:\\ProgramData\\Anaconda3\\envs\\dl1\\lib\\site-packages\\keras\\backend.py\", line 2464, in dot\n      out = tf.matmul(x, y)\nNode: 'sequential_9/lstm_3/while/lstm_cell_3/MatMul'\nMatrix size-incompatible: In[0]: [32,5], In[1]: [4,80]\n\t [[{{node sequential_9/lstm_3/while/lstm_cell_3/MatMul}}]] [Op:__inference_predict_function_129129]"
     ]
    }
   ],
   "source": [
    "y_pred = model2.predict(X_test)"
   ]
  },
  {
   "cell_type": "code",
   "execution_count": 227,
   "metadata": {},
   "outputs": [
    {
     "data": {
      "image/png": "[encoded data removed]",
      "text/plain": [
       "<Figure size 640x480 with 1 Axes>"
      ]
     },
     "metadata": {},
     "output_type": "display_data"
    }
   ],
   "source": [
    "plt.figure()\n",
    "plt.plot(y_test, color='red', label='Real Y')\n",
    "plt.plot(y_pred, color='blue', label='Predicted Y')\n",
    "plt.legend()\n",
    "plt.show()"
   ]
  },
  {
   "cell_type": "code",
   "execution_count": 233,
   "metadata": {},
   "outputs": [],
   "source": [
    "lstm = LSTM(20, return_sequences=True, return_state=True)\n",
    "hidden_states, last_hidden_state, last_cell_state = lstm(X_train)"
   ]
  },
  {
   "attachments": {},
   "cell_type": "markdown",
   "metadata": {},
   "source": [
    "---\n",
    "## Kaggle - Brent Oil Prices"
   ]
  },
  {
   "cell_type": "code",
   "execution_count": 236,
   "metadata": {},
   "outputs": [],
   "source": [
    "import pandas as pd\n",
    "import numpy as np\n",
    "import matplotlib.pyplot as plt\n",
    "import seaborn as sns\n",
    "import warnings\n",
    "\n",
    "warnings.filterwarnings(action='ignore')"
   ]
  },
  {
   "cell_type": "code",
   "execution_count": 388,
   "metadata": {},
   "outputs": [],
   "source": [
    "df = pd.read_csv('C:/Users/user/Downloads/vscode/4월1주차DL/Train/BrentOilPrices.csv')"
   ]
  },
  {
   "cell_type": "code",
   "execution_count": 384,
   "metadata": {},
   "outputs": [
    {
     "data": {
      "text/html": [
       "<div>\n",
       "<style scoped>\n",
       "    .dataframe tbody tr th:only-of-type {\n",
       "        vertical-align: middle;\n",
       "    }\n",
       "\n",
       "    .dataframe tbody tr th {\n",
       "        vertical-align: top;\n",
       "    }\n",
       "\n",
       "    .dataframe thead th {\n",
       "        text-align: right;\n",
       "    }\n",
       "</style>\n",
       "<table border=\"1\" class=\"dataframe\">\n",
       "  <thead>\n",
       "    <tr style=\"text-align: right;\">\n",
       "      <th></th>\n",
       "      <th>Date</th>\n",
       "      <th>Price</th>\n",
       "    </tr>\n",
       "  </thead>\n",
       "  <tbody>\n",
       "    <tr>\n",
       "      <th>0</th>\n",
       "      <td>20-May-87</td>\n",
       "      <td>18.63</td>\n",
       "    </tr>\n",
       "    <tr>\n",
       "      <th>1</th>\n",
       "      <td>21-May-87</td>\n",
       "      <td>18.45</td>\n",
       "    </tr>\n",
       "    <tr>\n",
       "      <th>2</th>\n",
       "      <td>22-May-87</td>\n",
       "      <td>18.55</td>\n",
       "    </tr>\n",
       "    <tr>\n",
       "      <th>3</th>\n",
       "      <td>25-May-87</td>\n",
       "      <td>18.60</td>\n",
       "    </tr>\n",
       "    <tr>\n",
       "      <th>4</th>\n",
       "      <td>26-May-87</td>\n",
       "      <td>18.63</td>\n",
       "    </tr>\n",
       "  </tbody>\n",
       "</table>\n",
       "</div>"
      ],
      "text/plain": [
       "        Date  Price\n",
       "0  20-May-87  18.63\n",
       "1  21-May-87  18.45\n",
       "2  22-May-87  18.55\n",
       "3  25-May-87  18.60\n",
       "4  26-May-87  18.63"
      ]
     },
     "execution_count": 384,
     "metadata": {},
     "output_type": "execute_result"
    }
   ],
   "source": [
    "df.head()"
   ]
  },
  {
   "cell_type": "code",
   "execution_count": 385,
   "metadata": {},
   "outputs": [
    {
     "data": {
      "text/html": [
       "<div>\n",
       "<style scoped>\n",
       "    .dataframe tbody tr th:only-of-type {\n",
       "        vertical-align: middle;\n",
       "    }\n",
       "\n",
       "    .dataframe tbody tr th {\n",
       "        vertical-align: top;\n",
       "    }\n",
       "\n",
       "    .dataframe thead th {\n",
       "        text-align: right;\n",
       "    }\n",
       "</style>\n",
       "<table border=\"1\" class=\"dataframe\">\n",
       "  <thead>\n",
       "    <tr style=\"text-align: right;\">\n",
       "      <th></th>\n",
       "      <th>Date</th>\n",
       "      <th>Price</th>\n",
       "    </tr>\n",
       "  </thead>\n",
       "  <tbody>\n",
       "    <tr>\n",
       "      <th>9006</th>\n",
       "      <td>Nov 08, 2022</td>\n",
       "      <td>96.85</td>\n",
       "    </tr>\n",
       "    <tr>\n",
       "      <th>9007</th>\n",
       "      <td>Nov 09, 2022</td>\n",
       "      <td>93.05</td>\n",
       "    </tr>\n",
       "    <tr>\n",
       "      <th>9008</th>\n",
       "      <td>Nov 10, 2022</td>\n",
       "      <td>94.25</td>\n",
       "    </tr>\n",
       "    <tr>\n",
       "      <th>9009</th>\n",
       "      <td>Nov 11, 2022</td>\n",
       "      <td>96.37</td>\n",
       "    </tr>\n",
       "    <tr>\n",
       "      <th>9010</th>\n",
       "      <td>Nov 14, 2022</td>\n",
       "      <td>93.59</td>\n",
       "    </tr>\n",
       "  </tbody>\n",
       "</table>\n",
       "</div>"
      ],
      "text/plain": [
       "              Date  Price\n",
       "9006  Nov 08, 2022  96.85\n",
       "9007  Nov 09, 2022  93.05\n",
       "9008  Nov 10, 2022  94.25\n",
       "9009  Nov 11, 2022  96.37\n",
       "9010  Nov 14, 2022  93.59"
      ]
     },
     "execution_count": 385,
     "metadata": {},
     "output_type": "execute_result"
    }
   ],
   "source": [
    "df.tail()"
   ]
  },
  {
   "cell_type": "code",
   "execution_count": 386,
   "metadata": {},
   "outputs": [
    {
     "data": {
      "text/html": [
       "<div>\n",
       "<style scoped>\n",
       "    .dataframe tbody tr th:only-of-type {\n",
       "        vertical-align: middle;\n",
       "    }\n",
       "\n",
       "    .dataframe tbody tr th {\n",
       "        vertical-align: top;\n",
       "    }\n",
       "\n",
       "    .dataframe thead th {\n",
       "        text-align: right;\n",
       "    }\n",
       "</style>\n",
       "<table border=\"1\" class=\"dataframe\">\n",
       "  <thead>\n",
       "    <tr style=\"text-align: right;\">\n",
       "      <th></th>\n",
       "      <th>Price</th>\n",
       "    </tr>\n",
       "  </thead>\n",
       "  <tbody>\n",
       "    <tr>\n",
       "      <th>count</th>\n",
       "      <td>9011.000000</td>\n",
       "    </tr>\n",
       "    <tr>\n",
       "      <th>mean</th>\n",
       "      <td>48.420782</td>\n",
       "    </tr>\n",
       "    <tr>\n",
       "      <th>std</th>\n",
       "      <td>32.860110</td>\n",
       "    </tr>\n",
       "    <tr>\n",
       "      <th>min</th>\n",
       "      <td>9.100000</td>\n",
       "    </tr>\n",
       "    <tr>\n",
       "      <th>25%</th>\n",
       "      <td>19.050000</td>\n",
       "    </tr>\n",
       "    <tr>\n",
       "      <th>50%</th>\n",
       "      <td>38.570000</td>\n",
       "    </tr>\n",
       "    <tr>\n",
       "      <th>75%</th>\n",
       "      <td>70.090000</td>\n",
       "    </tr>\n",
       "    <tr>\n",
       "      <th>max</th>\n",
       "      <td>143.950000</td>\n",
       "    </tr>\n",
       "  </tbody>\n",
       "</table>\n",
       "</div>"
      ],
      "text/plain": [
       "             Price\n",
       "count  9011.000000\n",
       "mean     48.420782\n",
       "std      32.860110\n",
       "min       9.100000\n",
       "25%      19.050000\n",
       "50%      38.570000\n",
       "75%      70.090000\n",
       "max     143.950000"
      ]
     },
     "execution_count": 386,
     "metadata": {},
     "output_type": "execute_result"
    }
   ],
   "source": [
    "df.describe()"
   ]
  },
  {
   "cell_type": "code",
   "execution_count": 387,
   "metadata": {},
   "outputs": [
    {
     "name": "stdout",
     "output_type": "stream",
     "text": [
      "<class 'pandas.core.frame.DataFrame'>\n",
      "RangeIndex: 9011 entries, 0 to 9010\n",
      "Data columns (total 2 columns):\n",
      " #   Column  Non-Null Count  Dtype  \n",
      "---  ------  --------------  -----  \n",
      " 0   Date    9011 non-null   object \n",
      " 1   Price   9011 non-null   float64\n",
      "dtypes: float64(1), object(1)\n",
      "memory usage: 140.9+ KB\n"
     ]
    }
   ],
   "source": [
    "df.info()"
   ]
  },
  {
   "cell_type": "code",
   "execution_count": 390,
   "metadata": {},
   "outputs": [],
   "source": [
    "df = df.set_index('Date')"
   ]
  },
  {
   "cell_type": "code",
   "execution_count": 377,
   "metadata": {},
   "outputs": [],
   "source": [
    "from sklearn.preprocessing import MinMaxScaler\n",
    "\n",
    "scaler = MinMaxScaler()\n",
    "v_scaled = scaler.fit_transform(df)"
   ]
  },
  {
   "cell_type": "code",
   "execution_count": 378,
   "metadata": {},
   "outputs": [
    {
     "data": {
      "text/plain": [
       "array([[0.07067112],\n",
       "       [0.0693363 ],\n",
       "       [0.07007786],\n",
       "       ...,\n",
       "       [0.63144234],\n",
       "       [0.64716352],\n",
       "       [0.62654802]])"
      ]
     },
     "execution_count": 378,
     "metadata": {},
     "output_type": "execute_result"
    }
   ],
   "source": [
    "v_scaled"
   ]
  },
  {
   "cell_type": "code",
   "execution_count": 348,
   "metadata": {},
   "outputs": [],
   "source": [
    "df['Price'] = v_scaled"
   ]
  },
  {
   "cell_type": "code",
   "execution_count": 349,
   "metadata": {},
   "outputs": [],
   "source": [
    "X = df.values.tolist()"
   ]
  },
  {
   "cell_type": "code",
   "execution_count": 350,
   "metadata": {},
   "outputs": [],
   "source": [
    "step = 5\n",
    "x, y = [], []\n",
    "for i in range(len(X) - step):\n",
    "    d = i + step\n",
    "    x.append(X[i:d])\n",
    "    y.append(X[d])"
   ]
  },
  {
   "cell_type": "code",
   "execution_count": 351,
   "metadata": {},
   "outputs": [],
   "source": [
    "train_size = int(len(X) * 0.8)\n",
    "X_train = np.array(x[0:train_size])\n",
    "y_train = np.array(y[0:train_size])\n",
    "\n",
    "X_test = np.array(x[train_size:])\n",
    "y_test = np.array(y[train_size:])"
   ]
  },
  {
   "cell_type": "code",
   "execution_count": 352,
   "metadata": {},
   "outputs": [
    {
     "name": "stdout",
     "output_type": "stream",
     "text": [
      "(7208, 1, 5)\n",
      "(1798, 1, 5)\n",
      "(7208, 1)\n",
      "(1798, 1)\n"
     ]
    }
   ],
   "source": [
    "X_train = X_train.reshape(-1, 1, step)\n",
    "X_test = X_test.reshape(-1,1, step)\n",
    "print(X_train.shape)\n",
    "print(X_test.shape)\n",
    "print(y_train.shape)\n",
    "print(y_test.shape)"
   ]
  },
  {
   "cell_type": "code",
   "execution_count": 353,
   "metadata": {},
   "outputs": [],
   "source": [
    "from tensorflow.keras import Sequential\n",
    "from tensorflow.keras.layers import Dense, LSTM"
   ]
  },
  {
   "cell_type": "code",
   "execution_count": 354,
   "metadata": {},
   "outputs": [],
   "source": [
    "model = Sequential()\n",
    "model.add(LSTM(units=40, activation='relu', return_sequences=True, input_shape=(1,5)))\n",
    "model.add(LSTM(units=80, activation='relu', return_sequences=True))\n",
    "model.add(LSTM(units=40, activation='relu', return_sequences=True))\n",
    "model.add(Dense(1))"
   ]
  },
  {
   "cell_type": "code",
   "execution_count": 355,
   "metadata": {},
   "outputs": [
    {
     "name": "stdout",
     "output_type": "stream",
     "text": [
      "Model: \"sequential_12\"\n",
      "_________________________________________________________________\n",
      " Layer (type)                Output Shape              Param #   \n",
      "=================================================================\n",
      " lstm_13 (LSTM)              (None, 1, 40)             7360      \n",
      "                                                                 \n",
      " lstm_14 (LSTM)              (None, 1, 80)             38720     \n",
      "                                                                 \n",
      " lstm_15 (LSTM)              (None, 1, 40)             19360     \n",
      "                                                                 \n",
      " dense_18 (Dense)            (None, 1, 1)              41        \n",
      "                                                                 \n",
      "=================================================================\n",
      "Total params: 65,481\n",
      "Trainable params: 65,481\n",
      "Non-trainable params: 0\n",
      "_________________________________________________________________\n"
     ]
    }
   ],
   "source": [
    "model.summary()"
   ]
  },
  {
   "cell_type": "code",
   "execution_count": 359,
   "metadata": {},
   "outputs": [
    {
     "name": "stdout",
     "output_type": "stream",
     "text": [
      "Epoch 1/100\n",
      "226/226 [==============================] - 2s 2ms/step - loss: 7.7261e-05 - mse: 7.7261e-05\n",
      "Epoch 2/100\n",
      "226/226 [==============================] - 0s 2ms/step - loss: 7.5779e-05 - mse: 7.5779e-05\n",
      "Epoch 3/100\n",
      "226/226 [==============================] - 0s 2ms/step - loss: 7.1086e-05 - mse: 7.1086e-05\n",
      "Epoch 4/100\n",
      "226/226 [==============================] - 0s 2ms/step - loss: 7.4020e-05 - mse: 7.4020e-05\n",
      "Epoch 5/100\n",
      "226/226 [==============================] - 0s 2ms/step - loss: 7.0495e-05 - mse: 7.0495e-05\n",
      "Epoch 6/100\n",
      "226/226 [==============================] - 0s 2ms/step - loss: 7.4931e-05 - mse: 7.4931e-05\n",
      "Epoch 7/100\n",
      "226/226 [==============================] - 0s 2ms/step - loss: 7.9358e-05 - mse: 7.9358e-05\n",
      "Epoch 8/100\n",
      "226/226 [==============================] - 0s 2ms/step - loss: 7.0314e-05 - mse: 7.0314e-05\n",
      "Epoch 9/100\n",
      "226/226 [==============================] - 0s 2ms/step - loss: 7.7771e-05 - mse: 7.7771e-05\n",
      "Epoch 10/100\n",
      "226/226 [==============================] - 0s 2ms/step - loss: 7.0461e-05 - mse: 7.0461e-05\n",
      "Epoch 11/100\n",
      "226/226 [==============================] - 0s 2ms/step - loss: 7.2606e-05 - mse: 7.2606e-05\n",
      "Epoch 12/100\n",
      "226/226 [==============================] - 0s 2ms/step - loss: 7.3397e-05 - mse: 7.3397e-05\n",
      "Epoch 13/100\n",
      "226/226 [==============================] - 0s 2ms/step - loss: 8.1567e-05 - mse: 8.1567e-05\n",
      "Epoch 14/100\n",
      "226/226 [==============================] - 0s 2ms/step - loss: 7.1303e-05 - mse: 7.1303e-05\n",
      "Epoch 15/100\n",
      "226/226 [==============================] - 0s 2ms/step - loss: 7.5414e-05 - mse: 7.5414e-05\n",
      "Epoch 16/100\n",
      "226/226 [==============================] - 0s 2ms/step - loss: 7.5086e-05 - mse: 7.5086e-05\n",
      "Epoch 17/100\n",
      "226/226 [==============================] - 0s 2ms/step - loss: 7.8122e-05 - mse: 7.8122e-05\n",
      "Epoch 18/100\n",
      "226/226 [==============================] - 0s 2ms/step - loss: 7.4018e-05 - mse: 7.4018e-05\n",
      "Epoch 19/100\n",
      "226/226 [==============================] - 0s 2ms/step - loss: 7.7960e-05 - mse: 7.7960e-05\n",
      "Epoch 20/100\n",
      "226/226 [==============================] - 0s 2ms/step - loss: 8.3788e-05 - mse: 8.3788e-05\n",
      "Epoch 21/100\n",
      "226/226 [==============================] - 0s 2ms/step - loss: 7.1394e-05 - mse: 7.1394e-05\n",
      "Epoch 22/100\n",
      "226/226 [==============================] - 0s 2ms/step - loss: 7.5276e-05 - mse: 7.5276e-05\n",
      "Epoch 23/100\n",
      "226/226 [==============================] - 0s 2ms/step - loss: 7.3371e-05 - mse: 7.3371e-05\n",
      "Epoch 24/100\n",
      "226/226 [==============================] - 0s 2ms/step - loss: 7.0575e-05 - mse: 7.0575e-05\n",
      "Epoch 25/100\n",
      "226/226 [==============================] - 0s 2ms/step - loss: 7.5445e-05 - mse: 7.5445e-05\n",
      "Epoch 26/100\n",
      "226/226 [==============================] - 0s 2ms/step - loss: 7.4133e-05 - mse: 7.4133e-05\n",
      "Epoch 27/100\n",
      "226/226 [==============================] - 0s 2ms/step - loss: 7.6777e-05 - mse: 7.6777e-05\n",
      "Epoch 28/100\n",
      "226/226 [==============================] - 0s 2ms/step - loss: 7.6928e-05 - mse: 7.6928e-05\n",
      "Epoch 29/100\n",
      "226/226 [==============================] - 0s 2ms/step - loss: 7.5515e-05 - mse: 7.5515e-05\n",
      "Epoch 30/100\n",
      "226/226 [==============================] - 0s 2ms/step - loss: 6.9099e-05 - mse: 6.9099e-05\n",
      "Epoch 31/100\n",
      "226/226 [==============================] - 0s 2ms/step - loss: 7.3261e-05 - mse: 7.3261e-05\n",
      "Epoch 32/100\n",
      "226/226 [==============================] - 0s 2ms/step - loss: 7.2980e-05 - mse: 7.2980e-05\n",
      "Epoch 33/100\n",
      "226/226 [==============================] - 0s 2ms/step - loss: 8.1265e-05 - mse: 8.1265e-05\n",
      "Epoch 34/100\n",
      "226/226 [==============================] - 0s 2ms/step - loss: 7.1217e-05 - mse: 7.1217e-05\n",
      "Epoch 35/100\n",
      "226/226 [==============================] - 0s 2ms/step - loss: 7.4626e-05 - mse: 7.4626e-05\n",
      "Epoch 36/100\n",
      "226/226 [==============================] - 0s 2ms/step - loss: 7.4280e-05 - mse: 7.4280e-05\n",
      "Epoch 37/100\n",
      "226/226 [==============================] - 0s 2ms/step - loss: 7.4262e-05 - mse: 7.4262e-05\n",
      "Epoch 38/100\n",
      "226/226 [==============================] - 0s 2ms/step - loss: 7.8793e-05 - mse: 7.8793e-05\n",
      "Epoch 39/100\n",
      "226/226 [==============================] - 0s 2ms/step - loss: 7.0851e-05 - mse: 7.0851e-05\n",
      "Epoch 40/100\n",
      "226/226 [==============================] - 0s 2ms/step - loss: 7.3038e-05 - mse: 7.3038e-05\n",
      "Epoch 41/100\n",
      "226/226 [==============================] - 0s 2ms/step - loss: 7.2691e-05 - mse: 7.2691e-05\n",
      "Epoch 42/100\n",
      "226/226 [==============================] - 0s 2ms/step - loss: 7.1773e-05 - mse: 7.1773e-05\n",
      "Epoch 43/100\n",
      "226/226 [==============================] - 0s 2ms/step - loss: 7.2076e-05 - mse: 7.2076e-05\n",
      "Epoch 44/100\n",
      "226/226 [==============================] - 0s 2ms/step - loss: 7.5098e-05 - mse: 7.5098e-05\n",
      "Epoch 45/100\n",
      "226/226 [==============================] - 0s 2ms/step - loss: 7.5887e-05 - mse: 7.5887e-05\n",
      "Epoch 46/100\n",
      "226/226 [==============================] - 0s 2ms/step - loss: 7.4523e-05 - mse: 7.4523e-05\n",
      "Epoch 47/100\n",
      "226/226 [==============================] - 0s 2ms/step - loss: 7.4335e-05 - mse: 7.4335e-05\n",
      "Epoch 48/100\n",
      "226/226 [==============================] - 0s 2ms/step - loss: 6.8132e-05 - mse: 6.8132e-05\n",
      "Epoch 49/100\n",
      "226/226 [==============================] - 0s 2ms/step - loss: 7.4706e-05 - mse: 7.4706e-05\n",
      "Epoch 50/100\n",
      "226/226 [==============================] - 0s 2ms/step - loss: 7.6618e-05 - mse: 7.6618e-05\n",
      "Epoch 51/100\n",
      "226/226 [==============================] - 0s 2ms/step - loss: 7.1097e-05 - mse: 7.1097e-05\n",
      "Epoch 52/100\n",
      "226/226 [==============================] - 0s 2ms/step - loss: 7.0297e-05 - mse: 7.0297e-05\n",
      "Epoch 53/100\n",
      "226/226 [==============================] - 0s 2ms/step - loss: 7.0822e-05 - mse: 7.0822e-05\n",
      "Epoch 54/100\n",
      "226/226 [==============================] - 0s 2ms/step - loss: 7.1242e-05 - mse: 7.1242e-05\n",
      "Epoch 55/100\n",
      "226/226 [==============================] - 0s 2ms/step - loss: 7.3672e-05 - mse: 7.3672e-05\n",
      "Epoch 56/100\n",
      "226/226 [==============================] - 0s 2ms/step - loss: 8.4154e-05 - mse: 8.4154e-05\n",
      "Epoch 57/100\n",
      "226/226 [==============================] - 0s 2ms/step - loss: 7.3278e-05 - mse: 7.3278e-05\n",
      "Epoch 58/100\n",
      "226/226 [==============================] - 0s 2ms/step - loss: 6.9702e-05 - mse: 6.9702e-05\n",
      "Epoch 59/100\n",
      "226/226 [==============================] - 0s 2ms/step - loss: 7.0109e-05 - mse: 7.0109e-05\n",
      "Epoch 60/100\n",
      "226/226 [==============================] - 0s 2ms/step - loss: 8.0064e-05 - mse: 8.0064e-05\n",
      "Epoch 61/100\n",
      "226/226 [==============================] - 0s 2ms/step - loss: 7.5506e-05 - mse: 7.5506e-05\n",
      "Epoch 62/100\n",
      "226/226 [==============================] - 0s 2ms/step - loss: 7.6820e-05 - mse: 7.6820e-05\n",
      "Epoch 63/100\n",
      "226/226 [==============================] - 0s 2ms/step - loss: 6.8406e-05 - mse: 6.8406e-05\n",
      "Epoch 64/100\n",
      "226/226 [==============================] - 0s 2ms/step - loss: 7.3670e-05 - mse: 7.3670e-05\n",
      "Epoch 65/100\n",
      "226/226 [==============================] - 0s 2ms/step - loss: 7.0748e-05 - mse: 7.0748e-05\n",
      "Epoch 66/100\n",
      "226/226 [==============================] - 0s 2ms/step - loss: 7.1789e-05 - mse: 7.1789e-05\n",
      "Epoch 67/100\n",
      "226/226 [==============================] - 0s 2ms/step - loss: 7.0982e-05 - mse: 7.0982e-05\n",
      "Epoch 68/100\n",
      "226/226 [==============================] - 0s 2ms/step - loss: 7.6679e-05 - mse: 7.6679e-05\n",
      "Epoch 69/100\n",
      "226/226 [==============================] - 0s 2ms/step - loss: 7.1879e-05 - mse: 7.1879e-05\n",
      "Epoch 70/100\n",
      "226/226 [==============================] - 0s 2ms/step - loss: 7.5261e-05 - mse: 7.5261e-05\n",
      "Epoch 71/100\n",
      "226/226 [==============================] - 0s 2ms/step - loss: 7.3778e-05 - mse: 7.3778e-05\n",
      "Epoch 72/100\n",
      "226/226 [==============================] - 0s 2ms/step - loss: 7.0697e-05 - mse: 7.0697e-05\n",
      "Epoch 73/100\n",
      "226/226 [==============================] - 0s 2ms/step - loss: 7.9681e-05 - mse: 7.9681e-05\n",
      "Epoch 74/100\n",
      "226/226 [==============================] - 0s 2ms/step - loss: 6.7100e-05 - mse: 6.7100e-05\n",
      "Epoch 75/100\n",
      "226/226 [==============================] - 0s 2ms/step - loss: 7.0908e-05 - mse: 7.0908e-05\n",
      "Epoch 76/100\n",
      "226/226 [==============================] - 0s 2ms/step - loss: 7.0129e-05 - mse: 7.0129e-05\n",
      "Epoch 77/100\n",
      "226/226 [==============================] - 0s 2ms/step - loss: 7.1306e-05 - mse: 7.1306e-05\n",
      "Epoch 78/100\n",
      "226/226 [==============================] - 0s 2ms/step - loss: 7.3970e-05 - mse: 7.3970e-05\n",
      "Epoch 79/100\n",
      "226/226 [==============================] - 0s 2ms/step - loss: 7.2339e-05 - mse: 7.2339e-05\n",
      "Epoch 80/100\n",
      "226/226 [==============================] - 0s 2ms/step - loss: 7.2186e-05 - mse: 7.2186e-05\n",
      "Epoch 81/100\n",
      "226/226 [==============================] - 0s 2ms/step - loss: 8.4750e-05 - mse: 8.4750e-05\n",
      "Epoch 82/100\n",
      "226/226 [==============================] - 0s 2ms/step - loss: 7.6326e-05 - mse: 7.6326e-05\n",
      "Epoch 83/100\n",
      "226/226 [==============================] - 0s 2ms/step - loss: 7.3830e-05 - mse: 7.3830e-05\n",
      "Epoch 84/100\n",
      "226/226 [==============================] - 0s 2ms/step - loss: 7.3810e-05 - mse: 7.3810e-05\n",
      "Epoch 85/100\n",
      "226/226 [==============================] - 0s 2ms/step - loss: 7.5764e-05 - mse: 7.5764e-05\n",
      "Epoch 86/100\n",
      "226/226 [==============================] - 0s 2ms/step - loss: 7.6186e-05 - mse: 7.6186e-05\n",
      "Epoch 87/100\n",
      "226/226 [==============================] - 0s 2ms/step - loss: 7.4851e-05 - mse: 7.4851e-05\n",
      "Epoch 88/100\n",
      "226/226 [==============================] - 0s 2ms/step - loss: 7.3853e-05 - mse: 7.3853e-05\n",
      "Epoch 89/100\n",
      "226/226 [==============================] - 0s 2ms/step - loss: 7.6336e-05 - mse: 7.6336e-05\n",
      "Epoch 90/100\n",
      "226/226 [==============================] - 0s 2ms/step - loss: 7.0538e-05 - mse: 7.0538e-05\n",
      "Epoch 91/100\n",
      "226/226 [==============================] - 0s 2ms/step - loss: 7.6600e-05 - mse: 7.6600e-05\n",
      "Epoch 92/100\n",
      "226/226 [==============================] - 0s 2ms/step - loss: 7.0675e-05 - mse: 7.0675e-05\n",
      "Epoch 93/100\n",
      "226/226 [==============================] - 0s 2ms/step - loss: 7.2093e-05 - mse: 7.2093e-05\n",
      "Epoch 94/100\n",
      "226/226 [==============================] - 0s 2ms/step - loss: 7.5515e-05 - mse: 7.5515e-05\n",
      "Epoch 95/100\n",
      "226/226 [==============================] - 0s 2ms/step - loss: 6.9256e-05 - mse: 6.9256e-05\n",
      "Epoch 96/100\n",
      "226/226 [==============================] - 0s 2ms/step - loss: 7.2193e-05 - mse: 7.2193e-05\n",
      "Epoch 97/100\n",
      "226/226 [==============================] - 0s 2ms/step - loss: 7.3287e-05 - mse: 7.3287e-05\n",
      "Epoch 98/100\n",
      "226/226 [==============================] - 0s 2ms/step - loss: 7.3552e-05 - mse: 7.3552e-05\n",
      "Epoch 99/100\n",
      "226/226 [==============================] - 0s 2ms/step - loss: 7.5870e-05 - mse: 7.5870e-05\n",
      "Epoch 100/100\n",
      "226/226 [==============================] - 0s 2ms/step - loss: 7.2860e-05 - mse: 7.2860e-05\n"
     ]
    },
    {
     "data": {
      "text/plain": [
       "<keras.callbacks.History at 0x2b11b1b5430>"
      ]
     },
     "execution_count": 359,
     "metadata": {},
     "output_type": "execute_result"
    }
   ],
   "source": [
    "model.compile(optimizer='adam', loss='mean_squared_error', metrics=['mse'])\n",
    "model.fit(X_train, y_train, epochs=100)"
   ]
  },
  {
   "cell_type": "code",
   "execution_count": 360,
   "metadata": {},
   "outputs": [
    {
     "name": "stdout",
     "output_type": "stream",
     "text": [
      "57/57 [==============================] - 0s 862us/step\n"
     ]
    }
   ],
   "source": [
    "y_pred2 = model.predict(X_test)"
   ]
  },
  {
   "cell_type": "code",
   "execution_count": 374,
   "metadata": {},
   "outputs": [
    {
     "data": {
      "text/plain": [
       "array([0.27852285, 0.28049934, 0.27308062, ..., 0.62090623, 0.629181  ,\n",
       "       0.64579254], dtype=float32)"
      ]
     },
     "execution_count": 374,
     "metadata": {},
     "output_type": "execute_result"
    }
   ],
   "source": [
    "y_pred2.reshape(-1)"
   ]
  },
  {
   "cell_type": "code",
   "execution_count": 371,
   "metadata": {},
   "outputs": [
    {
     "data": {
      "text/plain": [
       "array([0.27852285, 0.28049934, 0.27308062, ..., 0.62090623, 0.629181  ,\n",
       "       0.64579254], dtype=float32)"
      ]
     },
     "execution_count": 371,
     "metadata": {},
     "output_type": "execute_result"
    }
   ],
   "source": [
    "y_pred2.reshape(-1)"
   ]
  },
  {
   "cell_type": "code",
   "execution_count": 370,
   "metadata": {},
   "outputs": [
    {
     "data": {
      "image/png": "[encoded data removed]",
      "text/plain": [
       "<Figure size 640x480 with 1 Axes>"
      ]
     },
     "metadata": {},
     "output_type": "display_data"
    }
   ],
   "source": [
    "plt.figure()\n",
    "plt.plot(y_test, color='red', label='Real Y')\n",
    "plt.plot(y_pred2.reshape(-1), color='blue', label='Predicted Y')\n",
    "plt.legend()\n",
    "plt.show()"
   ]
  },
  {
   "cell_type": "code",
   "execution_count": 375,
   "metadata": {},
   "outputs": [
    {
     "data": {
      "text/plain": [
       "array([[[0.07067112, 0.0693363 , 0.07007786, 0.07044865, 0.07067112]],\n",
       "\n",
       "       [[0.0693363 , 0.07007786, 0.07044865, 0.07067112, 0.07044865]],\n",
       "\n",
       "       [[0.07007786, 0.07044865, 0.07067112, 0.07044865, 0.07044865]],\n",
       "\n",
       "       ...,\n",
       "\n",
       "       [[0.29032258, 0.28750463, 0.29558769, 0.284835  , 0.28053393]],\n",
       "\n",
       "       [[0.28750463, 0.29558769, 0.284835  , 0.28053393, 0.27897664]],\n",
       "\n",
       "       [[0.29558769, 0.284835  , 0.28053393, 0.27897664, 0.27801261]]])"
      ]
     },
     "execution_count": 375,
     "metadata": {},
     "output_type": "execute_result"
    }
   ],
   "source": [
    "X_train"
   ]
  },
  {
   "cell_type": "code",
   "execution_count": 376,
   "metadata": {},
   "outputs": [
    {
     "data": {
      "text/plain": [
       "array([[[0.284835  , 0.28053393, 0.27897664, 0.27801261, 0.27586207]],\n",
       "\n",
       "       [[0.28053393, 0.27897664, 0.27801261, 0.27586207, 0.27786429]],\n",
       "\n",
       "       [[0.27897664, 0.27801261, 0.27586207, 0.27786429, 0.27022618]],\n",
       "\n",
       "       ...,\n",
       "\n",
       "       [[0.63915462, 0.67059696, 0.67311828, 0.65072303, 0.62254357]],\n",
       "\n",
       "       [[0.67059696, 0.67311828, 0.65072303, 0.62254357, 0.63144234]],\n",
       "\n",
       "       [[0.67311828, 0.65072303, 0.62254357, 0.63144234, 0.64716352]]])"
      ]
     },
     "execution_count": 376,
     "metadata": {},
     "output_type": "execute_result"
    }
   ],
   "source": [
    "X_test"
   ]
  },
  {
   "cell_type": "code",
   "execution_count": null,
   "metadata": {},
   "outputs": [],
   "source": [
    "1. load 2. preprocess 3. model 4. train 5. main.py(합치기)"
   ]
  },
  {
   "cell_type": "code",
   "execution_count": null,
   "metadata": {},
   "outputs": [],
   "source": []
  },
  {
   "cell_type": "code",
   "execution_count": null,
   "metadata": {},
   "outputs": [],
   "source": []
  },
  {
   "cell_type": "code",
   "execution_count": null,
   "metadata": {},
   "outputs": [],
   "source": []
  },
  {
   "cell_type": "code",
   "execution_count": null,
   "metadata": {},
   "outputs": [],
   "source": []
  },
  {
   "cell_type": "code",
   "execution_count": null,
   "metadata": {},
   "outputs": [],
   "source": []
  },
  {
   "cell_type": "code",
   "execution_count": null,
   "metadata": {},
   "outputs": [],
   "source": []
  },
  {
   "cell_type": "code",
   "execution_count": null,
   "metadata": {},
   "outputs": [],
   "source": []
  },
  {
   "cell_type": "code",
   "execution_count": null,
   "metadata": {},
   "outputs": [],
   "source": []
  },
  {
   "cell_type": "code",
   "execution_count": null,
   "metadata": {},
   "outputs": [],
   "source": []
  },
  {
   "cell_type": "code",
   "execution_count": null,
   "metadata": {},
   "outputs": [],
   "source": []
  },
  {
   "cell_type": "code",
   "execution_count": null,
   "metadata": {},
   "outputs": [],
   "source": []
  },
  {
   "cell_type": "code",
   "execution_count": null,
   "metadata": {},
   "outputs": [],
   "source": []
  },
  {
   "cell_type": "code",
   "execution_count": null,
   "metadata": {},
   "outputs": [],
   "source": []
  },
  {
   "cell_type": "code",
   "execution_count": null,
   "metadata": {},
   "outputs": [],
   "source": []
  },
  {
   "cell_type": "code",
   "execution_count": null,
   "metadata": {},
   "outputs": [],
   "source": []
  },
  {
   "cell_type": "code",
   "execution_count": null,
   "metadata": {},
   "outputs": [],
   "source": []
  }
 ],
 "metadata": {
  "kernelspec": {
   "display_name": "dl1",
   "language": "python",
   "name": "python3"
  },
  "language_info": {
   "codemirror_mode": {
    "name": "ipython",
    "version": 3
   },
   "file_extension": ".py",
   "mimetype": "text/x-python",
   "name": "python",
   "nbconvert_exporter": "python",
   "pygments_lexer": "ipython3",
   "version": "3.9.16"
  },
  "orig_nbformat": 4,
  "vscode": {
   "interpreter": {
    "hash": "e9101bfd95d1dbb66434a164f9731f140df14d9894d0312031c6d6b39fc86336"
   }
  }
 },
 "nbformat": 4,
 "nbformat_minor": 2
}
